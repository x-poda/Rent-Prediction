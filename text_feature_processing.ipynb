{
 "cells": [
  {
   "cell_type": "code",
   "execution_count": 1,
   "id": "01a9f8fa",
   "metadata": {},
   "outputs": [],
   "source": [
    "import os\n",
    "import re\n",
    "import pandas as pd\n",
    "import numpy as np\n",
    "import seaborn as sns\n",
    "from scipy.stats import norm\n",
    "import matplotlib.pyplot as plt\n",
    "from sklearn.preprocessing import LabelEncoder\n",
    "pd.set_option('display.max_columns', 50)\n",
    "pd.set_option('display.max_rows', 500)"
   ]
  },
  {
   "cell_type": "code",
   "execution_count": 2,
   "id": "8c9e9649",
   "metadata": {},
   "outputs": [],
   "source": [
    "LOCAL_PATH = \"C:/Users/DELL/PycharmProjects/Zoi Task/data/\"\n",
    "filename = \"rent_data_clean_2.csv\"\n",
    "rent_data = pd.read_csv(os.path.join(LOCAL_PATH, filename))"
   ]
  },
  {
   "cell_type": "code",
   "execution_count": 3,
   "id": "ead29048",
   "metadata": {},
   "outputs": [
    {
     "data": {
      "text/plain": [
       "(259646, 21)"
      ]
     },
     "execution_count": 3,
     "metadata": {},
     "output_type": "execute_result"
    }
   ],
   "source": [
    "rent_data.shape"
   ]
  },
  {
   "cell_type": "code",
   "execution_count": 4,
   "id": "a09058de",
   "metadata": {},
   "outputs": [
    {
     "data": {
      "text/plain": [
       "Index(['garden', 'noRooms', 'lift', 'livingSpace', 'baseRent', 'cellar',\n",
       "       'hasKitchen', 'newlyConst', 'balcony', 'serviceCharge', 'description',\n",
       "       'floor', 'facilities', 'yearConstructedRange', 'condition',\n",
       "       'typeOfFlat_loft', 'typeOfFlat_maisonette',\n",
       "       'typeOfFlat_non_luxury_type', 'typeOfFlat_penthouse',\n",
       "       'typeOfFlat_terraced_flat', 'total_rent_new'],\n",
       "      dtype='object')"
      ]
     },
     "execution_count": 4,
     "metadata": {},
     "output_type": "execute_result"
    }
   ],
   "source": [
    "rent_data.columns"
   ]
  },
  {
   "cell_type": "markdown",
   "id": "494ea702",
   "metadata": {},
   "source": [
    "# Textual Data Analysis and Processing "
   ]
  },
  {
   "cell_type": "markdown",
   "id": "7308524a",
   "metadata": {},
   "source": [
    "## Fill the descriptions and facilities that are null "
   ]
  },
  {
   "cell_type": "code",
   "execution_count": 5,
   "id": "92e527a7",
   "metadata": {},
   "outputs": [],
   "source": [
    "rent_data['description'] = rent_data['description'].fillna('keine beschreibung angegebe')\n",
    "rent_data['facilities'] = rent_data['facilities'].fillna('keine beschreibung angegebe')"
   ]
  },
  {
   "cell_type": "markdown",
   "id": "0b18937f",
   "metadata": {},
   "source": [
    " ## Lets check the average length in character of each column "
   ]
  },
  {
   "cell_type": "code",
   "execution_count": 6,
   "id": "fb9cc472",
   "metadata": {},
   "outputs": [
    {
     "name": "stdout",
     "output_type": "stream",
     "text": [
      "The average length of a description is: 467\n"
     ]
    }
   ],
   "source": [
    "rent_data['pre_clean_description_length'] = [len(t) for t in rent_data.description]\n",
    "print(f'The average length of a description is: {int(rent_data[\"pre_clean_description_length\"].mean())}')"
   ]
  },
  {
   "cell_type": "code",
   "execution_count": 7,
   "id": "9315b4eb",
   "metadata": {},
   "outputs": [
    {
     "name": "stdout",
     "output_type": "stream",
     "text": [
      "The average length of a facilities is: 271\n"
     ]
    }
   ],
   "source": [
    "rent_data['pre_clean_facilities_length'] = [len(t) for t in rent_data.facilities]\n",
    "print(f'The average length of a facilities is: {int(rent_data[\"pre_clean_facilities_length\"].mean())}')"
   ]
  },
  {
   "cell_type": "markdown",
   "id": "2ef24051",
   "metadata": {},
   "source": [
    "## Text preprocessing steps"
   ]
  },
  {
   "cell_type": "markdown",
   "id": "53dc59be",
   "metadata": {},
   "source": [
    "### Removing special characters/strings "
   ]
  },
  {
   "cell_type": "code",
   "execution_count": 8,
   "id": "68d09ac6",
   "metadata": {},
   "outputs": [],
   "source": [
    "from nltk.tokenize import WordPunctTokenizer\n",
    "\n",
    "\n",
    "tok = WordPunctTokenizer()\n",
    "pat1 = r'@[A-Za-z0-9_]+'\n",
    "pat2 = r'https?://[^ ]+'\n",
    "combined_pat = r'|'.join((pat1, pat2))\n",
    "www_pat = r'www.[^ ]+'\n",
    "\n",
    "def text_cleaner(text):\n",
    "    stripped = re.sub(combined_pat, '', text)\n",
    "    stripped = re.sub(www_pat, '', stripped)\n",
    "    lower_case = stripped.lower()\n",
    "    \n",
    "    letters_only = re.sub(\"[^A-Za-z0-9]\", \" \", lower_case)\n",
    "    # During the letters_only process two lines above, it has created unnecessay white spaces,\n",
    "    # I will tokenize and join together to remove unneccessary white spaces\n",
    "    words = [x for x  in tok.tokenize(letters_only) if len(x) > 1]\n",
    "    return (\" \".join(words)).strip()"
   ]
  },
  {
   "cell_type": "code",
   "execution_count": 9,
   "id": "1a702248",
   "metadata": {},
   "outputs": [],
   "source": [
    "rent_data = rent_data.reset_index()"
   ]
  },
  {
   "cell_type": "code",
   "execution_count": 10,
   "id": "52aeb42a",
   "metadata": {},
   "outputs": [],
   "source": [
    "clean_description_text = []\n",
    "for i in range(len(rent_data)):\n",
    "    clean_description_text.append(text_cleaner(rent_data['description'][i]))"
   ]
  },
  {
   "cell_type": "code",
   "execution_count": 11,
   "id": "cb78c500",
   "metadata": {},
   "outputs": [],
   "source": [
    "clean_facilities_text = []\n",
    "for i in range(len(rent_data)):\n",
    "    clean_facilities_text.append(text_cleaner(rent_data['facilities'][i]))"
   ]
  },
  {
   "cell_type": "code",
   "execution_count": 12,
   "id": "0547f4fc",
   "metadata": {},
   "outputs": [],
   "source": [
    "clean_text_df = pd.DataFrame({\n",
    "    'clean_description': clean_description_text,\n",
    "    'clean_facilities': clean_facilities_text\n",
    "})"
   ]
  },
  {
   "cell_type": "markdown",
   "id": "0b3a6b71",
   "metadata": {},
   "source": [
    "## Concatenate facilities with description "
   ]
  },
  {
   "cell_type": "code",
   "execution_count": 13,
   "id": "a3de665a",
   "metadata": {},
   "outputs": [],
   "source": [
    "clean_text_df['property_description'] = clean_text_df['clean_description'] + '.' + clean_text_df['clean_facilities']"
   ]
  },
  {
   "cell_type": "code",
   "execution_count": 14,
   "id": "6b5999c8",
   "metadata": {},
   "outputs": [
    {
     "data": {
      "text/plain": [
       "'die ebenerdig zu erreichende erdgeschosswohnung befindet sich in einem gepflegten familienhaus aufgrund der hanglage bietet sich ein unverbaubarer blick ins gr ne.die wohnung ist mit laminat ausgelegt das badezimmer ist gefliest und verf gt ber eine wannendusche neue wei zimmert ren ein fliesenspiegel in der che und fu leisten wurden rzlich eingebaut zur wohnung geh rt ein 10 gro er keller eine garage kann optional mitgemietet werden'"
      ]
     },
     "execution_count": 14,
     "metadata": {},
     "output_type": "execute_result"
    }
   ],
   "source": [
    "clean_text_df['property_description'][0]"
   ]
  },
  {
   "cell_type": "markdown",
   "id": "4ce56e90",
   "metadata": {},
   "source": [
    "### Find the average rent for properties with descriptions < 50 and the average rent for properties with description > 50, aslo the condition\n",
    "There is a considerate difference in the average totalRent for properties with descriptions less than 100 words and for properties with more than 100 words"
   ]
  },
  {
   "cell_type": "code",
   "execution_count": 15,
   "id": "e9a89593",
   "metadata": {},
   "outputs": [
    {
     "name": "stdout",
     "output_type": "stream",
     "text": [
      "  length_category  total_rent_new\n",
      "0            <100      589.867991\n",
      "1           >=100      804.624733\n"
     ]
    }
   ],
   "source": [
    "rent_data['length_category'] = pd.cut(rent_data['pre_clean_description_length'], bins=[0, 100, float('inf')], labels=['<100', '>=100'])\n",
    "\n",
    "# Group by length category and condition, then calculate the average rent\n",
    "result = rent_data.groupby(['length_category'])['total_rent_new'].mean().reset_index()\n",
    "\n",
    "# Print the result\n",
    "print(result)"
   ]
  },
  {
   "cell_type": "markdown",
   "id": "0f01472b",
   "metadata": {},
   "source": [
    "## Truncate text with length more than 5000 characters."
   ]
  },
  {
   "cell_type": "code",
   "execution_count": 16,
   "id": "016099a7",
   "metadata": {},
   "outputs": [],
   "source": [
    "def truncate_text(text, max_length=1000):\n",
    "    if len(text) > max_length:\n",
    "        return text[:max_length]\n",
    "    else:\n",
    "        return text\n",
    "\n",
    "clean_text_df['property_description_1000'] = clean_text_df['property_description'].apply(truncate_text)"
   ]
  },
  {
   "cell_type": "markdown",
   "id": "b9a51b75",
   "metadata": {},
   "source": [
    "## Count the words in each property description and add it as a feature"
   ]
  },
  {
   "cell_type": "code",
   "execution_count": 17,
   "id": "2ae87725",
   "metadata": {},
   "outputs": [],
   "source": [
    "def count_words(text):\n",
    "    return len(text.split())\n",
    "\n",
    "# Apply the count_words function to the 'description' column\n",
    "clean_text_df['word_count'] = clean_text_df['property_description'].apply(count_words)"
   ]
  },
  {
   "cell_type": "code",
   "execution_count": 18,
   "id": "418f18d6",
   "metadata": {},
   "outputs": [
    {
     "data": {
      "text/plain": [
       "Index(['clean_description', 'clean_facilities', 'property_description',\n",
       "       'property_description_1000', 'word_count'],\n",
       "      dtype='object')"
      ]
     },
     "execution_count": 18,
     "metadata": {},
     "output_type": "execute_result"
    }
   ],
   "source": [
    "clean_text_df.columns"
   ]
  },
  {
   "cell_type": "code",
   "execution_count": 19,
   "id": "58ca4175",
   "metadata": {},
   "outputs": [
    {
     "data": {
      "text/html": [
       "<div>\n",
       "<style scoped>\n",
       "    .dataframe tbody tr th:only-of-type {\n",
       "        vertical-align: middle;\n",
       "    }\n",
       "\n",
       "    .dataframe tbody tr th {\n",
       "        vertical-align: top;\n",
       "    }\n",
       "\n",
       "    .dataframe thead th {\n",
       "        text-align: right;\n",
       "    }\n",
       "</style>\n",
       "<table border=\"1\" class=\"dataframe\">\n",
       "  <thead>\n",
       "    <tr style=\"text-align: right;\">\n",
       "      <th></th>\n",
       "      <th>property_description</th>\n",
       "      <th>word_count</th>\n",
       "    </tr>\n",
       "  </thead>\n",
       "  <tbody>\n",
       "    <tr>\n",
       "      <th>0</th>\n",
       "      <td>die ebenerdig zu erreichende erdgeschosswohnun...</td>\n",
       "      <td>67</td>\n",
       "    </tr>\n",
       "    <tr>\n",
       "      <th>1</th>\n",
       "      <td>alles neu macht der mai so kann es auch sie in...</td>\n",
       "      <td>231</td>\n",
       "    </tr>\n",
       "    <tr>\n",
       "      <th>2</th>\n",
       "      <td>der neubau entsteht im herzen der dresdner neu...</td>\n",
       "      <td>143</td>\n",
       "    </tr>\n",
       "    <tr>\n",
       "      <th>3</th>\n",
       "      <td>abseits von rm und abgasen in ihre neue wohnun...</td>\n",
       "      <td>23</td>\n",
       "    </tr>\n",
       "    <tr>\n",
       "      <th>4</th>\n",
       "      <td>es handelt sich hier um ein saniertes mehrfami...</td>\n",
       "      <td>91</td>\n",
       "    </tr>\n",
       "    <tr>\n",
       "      <th>...</th>\n",
       "      <td>...</td>\n",
       "      <td>...</td>\n",
       "    </tr>\n",
       "    <tr>\n",
       "      <th>259641</th>\n",
       "      <td>diese sch ne neuwertige wohnung im dachgeschos...</td>\n",
       "      <td>34</td>\n",
       "    </tr>\n",
       "    <tr>\n",
       "      <th>259642</th>\n",
       "      <td>hier wird eine wohnung im familienhaus angebot...</td>\n",
       "      <td>21</td>\n",
       "    </tr>\n",
       "    <tr>\n",
       "      <th>259643</th>\n",
       "      <td>gem tliche zimmer wohnung im obergeschoss eine...</td>\n",
       "      <td>82</td>\n",
       "    </tr>\n",
       "    <tr>\n",
       "      <th>259644</th>\n",
       "      <td>neubau erstbezug gehobener standard alle einhe...</td>\n",
       "      <td>202</td>\n",
       "    </tr>\n",
       "    <tr>\n",
       "      <th>259645</th>\n",
       "      <td>sch ne helle gut geschnittene und teilm bliert...</td>\n",
       "      <td>83</td>\n",
       "    </tr>\n",
       "  </tbody>\n",
       "</table>\n",
       "<p>259646 rows × 2 columns</p>\n",
       "</div>"
      ],
      "text/plain": [
       "                                     property_description  word_count\n",
       "0       die ebenerdig zu erreichende erdgeschosswohnun...          67\n",
       "1       alles neu macht der mai so kann es auch sie in...         231\n",
       "2       der neubau entsteht im herzen der dresdner neu...         143\n",
       "3       abseits von rm und abgasen in ihre neue wohnun...          23\n",
       "4       es handelt sich hier um ein saniertes mehrfami...          91\n",
       "...                                                   ...         ...\n",
       "259641  diese sch ne neuwertige wohnung im dachgeschos...          34\n",
       "259642  hier wird eine wohnung im familienhaus angebot...          21\n",
       "259643  gem tliche zimmer wohnung im obergeschoss eine...          82\n",
       "259644  neubau erstbezug gehobener standard alle einhe...         202\n",
       "259645  sch ne helle gut geschnittene und teilm bliert...          83\n",
       "\n",
       "[259646 rows x 2 columns]"
      ]
     },
     "execution_count": 19,
     "metadata": {},
     "output_type": "execute_result"
    }
   ],
   "source": [
    "clean_text_df[[\"property_description\",\"word_count\"]]"
   ]
  },
  {
   "cell_type": "markdown",
   "id": "a533f44e",
   "metadata": {},
   "source": [
    "## Adding new features for property description\n",
    "1. Summary of the property description\n",
    "2. Sentence embeddings for the summarized property description\n",
    "3. Use sentence embeddings as feature. "
   ]
  },
  {
   "cell_type": "markdown",
   "id": "c12ba597",
   "metadata": {},
   "source": [
    "Model for german text summary -> https://huggingface.co/Einmalumdiewelt/T5-Base_GNAD\n",
    "Model for german sentence embeddings -> "
   ]
  },
  {
   "cell_type": "code",
   "execution_count": 24,
   "id": "34d43668",
   "metadata": {
    "scrolled": true
   },
   "outputs": [],
   "source": [
    "# Use a pipeline as a high-level helper\n",
    "from transformers import pipeline\n",
    "pipe = pipeline(\"summarization\", model=\"Einmalumdiewelt/T5-Base_GNAD\")\n",
    "device = \"cpu\"\n",
    "# Load model directly\n",
    "from transformers import AutoTokenizer, AutoModelForSeq2SeqLM\n",
    "tokenizer = AutoTokenizer.from_pretrained(\"Einmalumdiewelt/T5-Base_GNAD\")\n",
    "model = AutoModelForSeq2SeqLM.from_pretrained(\"Einmalumdiewelt/T5-Base_GNAD\")\n",
    "\n",
    "def generate_summary(text):\n",
    "    inputs = tokenizer([text], padding=\"max_length\", truncation=True, max_length=512, return_tensors=\"pt\")\n",
    "    input_ids = inputs.input_ids.to(device)\n",
    "    attention_mask = inputs.attention_mask.to(device)\n",
    "    output = model.generate(input_ids, attention_mask=attention_mask)\n",
    "    return tokenizer.decode(output[0], skip_special_tokens=True)"
   ]
  },
  {
   "cell_type": "markdown",
   "id": "250a2e4e",
   "metadata": {},
   "source": [
    "### Testing the model with one german sentence"
   ]
  },
  {
   "cell_type": "code",
   "execution_count": 25,
   "id": "13398d2e",
   "metadata": {},
   "outputs": [
    {
     "name": "stderr",
     "output_type": "stream",
     "text": [
      "C:\\Users\\DELL\\anaconda3\\Lib\\site-packages\\transformers\\generation\\utils.py:1273: UserWarning: Using the model-agnostic default `max_length` (=20) to control the generation length. We recommend setting `max_new_tokens` to control the maximum length of the generation.\n",
      "  warnings.warn(\n"
     ]
    }
   ],
   "source": [
    "text = [\"gem tliche raum wohnung in chemnitz komplette wohneinheit ist mit laminat ausgestattet bscher balkon mit blick ins gr ne keller vorhanden heller wohn und schlafbereich vom wohnzimmer zugang zum balkon sehr bsch deckenhoch gefliestes bad mit wanne.\"]\n",
    "summary = []\n",
    "for t in text:\n",
    "    summary.append(generate_summary(t))"
   ]
  },
  {
   "cell_type": "code",
   "execution_count": 26,
   "id": "50d1da44",
   "metadata": {},
   "outputs": [
    {
     "data": {
      "text/plain": [
       "['Die chemnitz wohnung ist komplett ausgestattet und hat einen schönen blick']"
      ]
     },
     "execution_count": 26,
     "metadata": {},
     "output_type": "execute_result"
    }
   ],
   "source": [
    "summary"
   ]
  },
  {
   "cell_type": "markdown",
   "id": "8836ea38",
   "metadata": {},
   "source": [
    "### Generating a summary for the first 1000 description"
   ]
  },
  {
   "cell_type": "code",
   "execution_count": 27,
   "id": "54352f75",
   "metadata": {},
   "outputs": [
    {
     "name": "stderr",
     "output_type": "stream",
     "text": [
      "100%|██████████████████████████████████████████████████████████████████████████████████| 10/10 [00:13<00:00,  1.30s/it]\n"
     ]
    }
   ],
   "source": [
    "from tqdm import tqdm\n",
    "\n",
    "property_descr_summary = []\n",
    "for t in tqdm(clean_text_df[\"property_description\"].head(10)):\n",
    "    property_descr_summary.append(generate_summary(t))"
   ]
  },
  {
   "cell_type": "code",
   "execution_count": 29,
   "id": "e3bf9b37",
   "metadata": {},
   "outputs": [],
   "source": [
    "clean_text_df[\"property_description_summary\"] = property_descr_summary + [np.nan] * (len(clean_text_df) - len(property_descr_summary))"
   ]
  },
  {
   "cell_type": "code",
   "execution_count": 31,
   "id": "880f8936",
   "metadata": {},
   "outputs": [
    {
     "name": "stderr",
     "output_type": "stream",
     "text": [
      "No sentence-transformers model found with name C:\\Users\\DELL/.cache\\torch\\sentence_transformers\\T-Systems-onsite_german-roberta-sentence-transformer-v2. Creating a new one with MEAN pooling.\n"
     ]
    }
   ],
   "source": [
    "from sentence_transformers import SentenceTransformer\n",
    "\n",
    "# Load the German RoBERTa model\n",
    "model_name = \"T-Systems-onsite/german-roberta-sentence-transformer-v2\"\n",
    "model = SentenceTransformer(model_name)\n",
    "# Extract sentence embeddings\n",
    "sentence_embeddings = model.encode(property_descr_summary)"
   ]
  },
  {
   "cell_type": "code",
   "execution_count": 32,
   "id": "921056bf",
   "metadata": {},
   "outputs": [
    {
     "data": {
      "text/plain": [
       "array([[ 0.12873927, -0.1620096 , -0.03720499, ..., -0.36538956,\n",
       "         0.05844872,  0.11322635],\n",
       "       [ 0.15093684, -0.07536464, -0.11381516, ..., -0.02618101,\n",
       "         0.06989988,  0.24130122],\n",
       "       [ 0.2154808 , -0.12638694,  0.07471661, ..., -0.31053618,\n",
       "         0.11787111,  0.12319646],\n",
       "       ...,\n",
       "       [-0.03829889,  0.30238587, -0.07255299, ..., -0.06411088,\n",
       "         0.14626594,  0.1873768 ],\n",
       "       [-0.03090677, -0.00616135, -0.1315068 , ...,  0.077553  ,\n",
       "         0.23328434, -0.17386441],\n",
       "       [ 0.21111676, -0.15806942,  0.00352365, ..., -0.17597473,\n",
       "         0.02649845,  0.15908512]], dtype=float32)"
      ]
     },
     "execution_count": 32,
     "metadata": {},
     "output_type": "execute_result"
    }
   ],
   "source": [
    "sentence_embeddings"
   ]
  },
  {
   "cell_type": "code",
   "execution_count": null,
   "id": "1e3a73e6",
   "metadata": {},
   "outputs": [],
   "source": []
  }
 ],
 "metadata": {
  "kernelspec": {
   "display_name": "zoi_tech_task",
   "language": "python",
   "name": "zoi_tech_task"
  },
  "language_info": {
   "codemirror_mode": {
    "name": "ipython",
    "version": 3
   },
   "file_extension": ".py",
   "mimetype": "text/x-python",
   "name": "python",
   "nbconvert_exporter": "python",
   "pygments_lexer": "ipython3",
   "version": "3.11.4"
  }
 },
 "nbformat": 4,
 "nbformat_minor": 5
}
