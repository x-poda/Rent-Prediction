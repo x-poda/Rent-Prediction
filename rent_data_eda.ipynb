{
 "cells": [
  {
   "cell_type": "markdown",
   "id": "d0032244",
   "metadata": {},
   "source": [
    "# Rent Prediction for Apartment rental offers in Germany"
   ]
  },
  {
   "cell_type": "markdown",
   "id": "8e6bbf93",
   "metadata": {},
   "source": [
    "## 1. Loading the data and doing some simple analysis"
   ]
  },
  {
   "cell_type": "code",
   "execution_count": 1,
   "id": "c4e20a78",
   "metadata": {},
   "outputs": [],
   "source": [
    "import os\n",
    "import re\n",
    "import pandas as pd\n",
    "import numpy as np\n",
    "import seaborn as sns\n",
    "from scipy.stats import norm\n",
    "import matplotlib.pyplot as plt\n",
    "from sklearn.preprocessing import LabelEncoder\n",
    "pd.set_option('display.max_columns', 50)\n",
    "pd.set_option('display.max_rows', 500)"
   ]
  },
  {
   "cell_type": "code",
   "execution_count": 2,
   "id": "93bb5c19",
   "metadata": {},
   "outputs": [],
   "source": [
    "LOCAL_PATH = \"C:/Users/DELL/PycharmProjects/Zoi Task/data/\"\n",
    "filename = \"immo_data.csv\"\n",
    "rent_data = pd.read_csv(os.path.join(LOCAL_PATH, filename))"
   ]
  },
  {
   "cell_type": "markdown",
   "id": "9222df7b",
   "metadata": {},
   "source": [
    "### 1.1 Getting the basic information from the dataset\n",
    "\n",
    "The original dataset consists of 268850 apartments (rows) * 49 features (columns)"
   ]
  },
  {
   "cell_type": "code",
   "execution_count": 3,
   "id": "6c787434",
   "metadata": {
    "scrolled": false
   },
   "outputs": [
    {
     "name": "stdout",
     "output_type": "stream",
     "text": [
      "<class 'pandas.core.frame.DataFrame'>\n",
      "RangeIndex: 268850 entries, 0 to 268849\n",
      "Data columns (total 49 columns):\n",
      " #   Column                    Non-Null Count   Dtype  \n",
      "---  ------                    --------------   -----  \n",
      " 0   regio1                    268850 non-null  object \n",
      " 1   serviceCharge             261941 non-null  float64\n",
      " 2   heatingType               223994 non-null  object \n",
      " 3   telekomTvOffer            236231 non-null  object \n",
      " 4   telekomHybridUploadSpeed  45020 non-null   float64\n",
      " 5   newlyConst                268850 non-null  bool   \n",
      " 6   balcony                   268850 non-null  bool   \n",
      " 7   picturecount              268850 non-null  int64  \n",
      " 8   pricetrend                267018 non-null  float64\n",
      " 9   telekomUploadSpeed        235492 non-null  float64\n",
      " 10  totalRent                 228333 non-null  float64\n",
      " 11  yearConstructed           211805 non-null  float64\n",
      " 12  scoutId                   268850 non-null  int64  \n",
      " 13  noParkSpaces              93052 non-null   float64\n",
      " 14  firingTypes               211886 non-null  object \n",
      " 15  hasKitchen                268850 non-null  bool   \n",
      " 16  geo_bln                   268850 non-null  object \n",
      " 17  cellar                    268850 non-null  bool   \n",
      " 18  yearConstructedRange      211805 non-null  float64\n",
      " 19  baseRent                  268850 non-null  float64\n",
      " 20  houseNumber               197832 non-null  object \n",
      " 21  livingSpace               268850 non-null  float64\n",
      " 22  geo_krs                   268850 non-null  object \n",
      " 23  condition                 200361 non-null  object \n",
      " 24  interiorQual              156185 non-null  object \n",
      " 25  petsAllowed               154277 non-null  object \n",
      " 26  street                    268850 non-null  object \n",
      " 27  streetPlain               197837 non-null  object \n",
      " 28  lift                      268850 non-null  bool   \n",
      " 29  baseRentRange             268850 non-null  int64  \n",
      " 30  typeOfFlat                232236 non-null  object \n",
      " 31  geo_plz                   268850 non-null  int64  \n",
      " 32  noRooms                   268850 non-null  float64\n",
      " 33  thermalChar               162344 non-null  float64\n",
      " 34  floor                     217541 non-null  float64\n",
      " 35  numberOfFloors            171118 non-null  float64\n",
      " 36  noRoomsRange              268850 non-null  int64  \n",
      " 37  garden                    268850 non-null  bool   \n",
      " 38  livingSpaceRange          268850 non-null  int64  \n",
      " 39  regio2                    268850 non-null  object \n",
      " 40  regio3                    268850 non-null  object \n",
      " 41  description               249103 non-null  object \n",
      " 42  facilities                215926 non-null  object \n",
      " 43  heatingCosts              85518 non-null   float64\n",
      " 44  energyEfficiencyClass     77787 non-null   object \n",
      " 45  lastRefurbish             80711 non-null   float64\n",
      " 46  electricityBasePrice      46846 non-null   float64\n",
      " 47  electricityKwhPrice       46846 non-null   float64\n",
      " 48  date                      268850 non-null  object \n",
      "dtypes: bool(6), float64(18), int64(6), object(19)\n",
      "memory usage: 89.7+ MB\n"
     ]
    }
   ],
   "source": [
    "rent_data.info()"
   ]
  },
  {
   "cell_type": "markdown",
   "id": "62b7aea8",
   "metadata": {},
   "source": [
    "### 1.2 Dataset Dictionary\n",
    "\n",
    "- **regio1:** State\n",
    "- **serviceCharge:** Auxiliary costs such as electricty or internet [Euro]\n",
    "- **heatingType:** Type of heating\n",
    "- **telekomTvOffer:** Is payed TV included? If so, which offer?\n",
    "- **telekomHybridUploadSpeed:** How fast is the hybrid inter upload speed?\n",
    "- **newlyConst:** Is the building newly constructed?\n",
    "- **balcony:** Does the object have a balcony?\n",
    "- **picturecount:** How many pictures were uploaded to the listing?\n",
    "- **pricetrend:** Price trend as calculated by Immoscout\n",
    "- **telekomUploadSpeed:** How fast is the internet upload speed?\n",
    "- **totalRent:** Total rent (usually a sum of base rent, service charge and heating cost)\n",
    "- **yearConstructed:** Construction year\n",
    "- **scoutId:** Immoscout Id\n",
    "- **noParkSpaces:** Number of parking spaces\n",
    "- **firingTypes:** Main energy sources, separated by colon\n",
    "- **hasKitchen:** Has a kitchen\n",
    "- **geo_bln:** Same as regio1\n",
    "- **cellar:** Has a cellar\n",
    "- **yearConstructedRange:** Binned construction year, 1 to 9\n",
    "- **baseRent:** Base rent without electricity and heating\n",
    "- **houseNumber:** House number\n",
    "- **livingSpace:** Living space in sqm\n",
    "- **geo_krs:** District, above ZIP code\n",
    "- **condition:** Condition of the flat\n",
    "- **interiorQual:** Interior quality\n",
    "- **petsAllowed:** Are pets allowed, can be yes, no or negotiable\n",
    "- **street:** Street name\n",
    "- **streetPlain:** Street name (plain, different formating)\n",
    "- **lift:** Is elevator available\n",
    "- **baseRentRange:** Binned base rent, 1 to 9\n",
    "- **typeOfFlat:** Type of flat\n",
    "- **geo_plz:** ZIP code\n",
    "- **noRooms:** Number of rooms\n",
    "- **thermalChar:** Energy need in kWh/(m^2a), defines the energy efficiency class\n",
    "- **floor:** Which floor is the flat on\n",
    "- **numberOfFloors:** Number of floors in the building\n",
    "- **noRoomsRange:** Binned number of rooms, 1 to 5\n",
    "- **garden:** Has a garden\n",
    "- **livingSpaceRange:** Binned living space, 1 to 7\n",
    "- **regio2:** District or Kreis, same as geo krs\n",
    "- **regio3:** City/town\n",
    "- **description:** Free text description of the object\n",
    "- **facilities:** Free text description about available facilities\n",
    "- **heatingCosts:** Monthly heating costs in [Euro]\n",
    "- **energyEfficiencyClass:** Energy efficiency class (based on binned thermalChar, deprecated since Feb 2020)\n",
    "- **lastRefurbish:** Year of last renovation\n",
    "- **electricityBasePrice:** Monthly base price for electricity in € (deprecated since Feb 2020)\n",
    "- **electricityKwhPrice:** Electricity price per kwh (deprecated since Feb 2020)\n",
    "- **date:** Time of scraping"
   ]
  },
  {
   "cell_type": "markdown",
   "id": "4d0a7196",
   "metadata": {},
   "source": [
    "### 1.3 Checking for duplicates\n",
    "\n",
    "First we check all the dataset for duplicates. And as we see from the line below we get 0 duplicates. But it is possible that people publish the same object many times and thus get a different scoutID so we will take a look if there are duplicated in a dataset without the scoutID."
   ]
  },
  {
   "cell_type": "code",
   "execution_count": 4,
   "id": "ddb6defd",
   "metadata": {},
   "outputs": [
    {
     "data": {
      "text/plain": [
       "0"
      ]
     },
     "execution_count": 4,
     "metadata": {},
     "output_type": "execute_result"
    }
   ],
   "source": [
    "# search for duplicates\n",
    "rent_data.duplicated().sum()"
   ]
  },
  {
   "cell_type": "code",
   "execution_count": 5,
   "id": "f2f047d4",
   "metadata": {},
   "outputs": [
    {
     "data": {
      "text/plain": [
       "891"
      ]
     },
     "execution_count": 5,
     "metadata": {},
     "output_type": "execute_result"
    }
   ],
   "source": [
    "# get a list of all columns without scoutId\n",
    "list_vars = list(rent_data.columns)\n",
    "no_scoutID = [i for i in list_vars if i != 'scoutId']\n",
    "rent_data[no_scoutID].duplicated().sum()"
   ]
  },
  {
   "cell_type": "markdown",
   "id": "79017c3a",
   "metadata": {},
   "source": [
    "Removing all the duplicates"
   ]
  },
  {
   "cell_type": "code",
   "execution_count": 6,
   "id": "d90b9ad3",
   "metadata": {},
   "outputs": [],
   "source": [
    "# get rid of all duplicates (if we ignore scoutId)\n",
    "rent_data = rent_data[no_scoutID].drop_duplicates()"
   ]
  },
  {
   "cell_type": "code",
   "execution_count": 7,
   "id": "d335defa",
   "metadata": {},
   "outputs": [
    {
     "data": {
      "text/plain": [
       "(267959, 48)"
      ]
     },
     "execution_count": 7,
     "metadata": {},
     "output_type": "execute_result"
    }
   ],
   "source": [
    "rent_data.shape"
   ]
  },
  {
   "cell_type": "markdown",
   "id": "b2c55b16",
   "metadata": {},
   "source": [
    "### 1.4 The percentage of missing values for each column\n",
    "\n",
    "Let’s look for any columns that have more than a specific percentage of missing values. We’ll get rid of such columns because it’s impossible to impute missing values for them. "
   ]
  },
  {
   "cell_type": "code",
   "execution_count": 8,
   "id": "96f70677",
   "metadata": {},
   "outputs": [
    {
     "data": {
      "text/plain": [
       "regio1                       0.00\n",
       "regio3                       0.00\n",
       "regio2                       0.00\n",
       "livingSpaceRange             0.00\n",
       "garden                       0.00\n",
       "noRoomsRange                 0.00\n",
       "noRooms                      0.00\n",
       "geo_plz                      0.00\n",
       "baseRentRange                0.00\n",
       "lift                         0.00\n",
       "street                       0.00\n",
       "geo_krs                      0.00\n",
       "livingSpace                  0.00\n",
       "baseRent                     0.00\n",
       "cellar                       0.00\n",
       "date                         0.00\n",
       "hasKitchen                   0.00\n",
       "newlyConst                   0.00\n",
       "geo_bln                      0.00\n",
       "picturecount                 0.00\n",
       "balcony                      0.00\n",
       "pricetrend                   0.68\n",
       "serviceCharge                2.57\n",
       "description                  7.35\n",
       "telekomTvOffer              12.10\n",
       "telekomUploadSpeed          12.38\n",
       "typeOfFlat                  13.62\n",
       "totalRent                   15.07\n",
       "heatingType                 16.69\n",
       "floor                       19.06\n",
       "facilities                  19.69\n",
       "firingTypes                 21.18\n",
       "yearConstructed             21.22\n",
       "yearConstructedRange        21.22\n",
       "condition                   25.50\n",
       "streetPlain                 26.41\n",
       "houseNumber                 26.42\n",
       "numberOfFloors              36.35\n",
       "thermalChar                 39.60\n",
       "interiorQual                41.91\n",
       "petsAllowed                 42.60\n",
       "noParkSpaces                65.38\n",
       "heatingCosts                68.19\n",
       "lastRefurbish               70.02\n",
       "energyEfficiencyClass       71.06\n",
       "electricityKwhPrice         82.57\n",
       "electricityBasePrice        82.57\n",
       "telekomHybridUploadSpeed    83.24\n",
       "dtype: float64"
      ]
     },
     "execution_count": 8,
     "metadata": {},
     "output_type": "execute_result"
    }
   ],
   "source": [
    "rounded_data = rent_data.isna().mean().round(4) * 100\n",
    "res = rounded_data.sort_values(ascending=True)\n",
    "res"
   ]
  },
  {
   "cell_type": "code",
   "execution_count": 9,
   "id": "926e4bcb",
   "metadata": {},
   "outputs": [
    {
     "name": "stdout",
     "output_type": "stream",
     "text": [
      "Number of columns to keep: 37\n"
     ]
    }
   ],
   "source": [
    "# Filter columns with missing values less than or equal to 30%\n",
    "columns_to_keep = res[res <= 30].index\n",
    "print('Number of columns to keep:',len(columns_to_keep))\n",
    "# Drop columns from the original DataFrame\n",
    "rent_data_dropped_missing_cols = rent_data[columns_to_keep]"
   ]
  },
  {
   "cell_type": "code",
   "execution_count": 10,
   "id": "d7ac68fa",
   "metadata": {},
   "outputs": [
    {
     "data": {
      "text/plain": [
       "['regio1',\n",
       " 'regio3',\n",
       " 'regio2',\n",
       " 'livingSpaceRange',\n",
       " 'garden',\n",
       " 'noRoomsRange',\n",
       " 'noRooms',\n",
       " 'geo_plz',\n",
       " 'baseRentRange',\n",
       " 'lift',\n",
       " 'street',\n",
       " 'geo_krs',\n",
       " 'livingSpace',\n",
       " 'baseRent',\n",
       " 'cellar',\n",
       " 'date',\n",
       " 'hasKitchen',\n",
       " 'newlyConst',\n",
       " 'geo_bln',\n",
       " 'picturecount',\n",
       " 'balcony',\n",
       " 'pricetrend',\n",
       " 'serviceCharge',\n",
       " 'description',\n",
       " 'telekomTvOffer',\n",
       " 'telekomUploadSpeed',\n",
       " 'typeOfFlat',\n",
       " 'totalRent',\n",
       " 'heatingType',\n",
       " 'floor',\n",
       " 'facilities',\n",
       " 'firingTypes',\n",
       " 'yearConstructed',\n",
       " 'yearConstructedRange',\n",
       " 'condition',\n",
       " 'streetPlain',\n",
       " 'houseNumber']"
      ]
     },
     "execution_count": 10,
     "metadata": {},
     "output_type": "execute_result"
    }
   ],
   "source": [
    "rent_data_dropped_missing_cols.columns.tolist()"
   ]
  },
  {
   "cell_type": "markdown",
   "id": "70cef2b6",
   "metadata": {},
   "source": [
    "## 2. Data Cleaning"
   ]
  },
  {
   "cell_type": "markdown",
   "id": "57e265c6",
   "metadata": {},
   "source": [
    "### 2.1 Lets do some more dropping\n",
    "\n",
    "#### What are some columns that are not useful at all for the rent prediction:\n",
    "1. date: Time of scraping\n",
    "2. house number \n",
    "3. scoutId    \n",
    "4. picture count \n",
    "8. regio1 = geo_bln so we drop geo_bln\n",
    "9. regio2 = geo_krs so we drop geo_krs\n",
    "10. telecomUploadSpeed\n",
    "\n",
    "\n",
    "#### Columns that have repeated information\n",
    "\n",
    "11. noRoomsRange <--> noRooms.\n",
    "12. baseRentRange <-->baseRent\n",
    "13. yearConstructedRange <--> yearConstructed\n",
    "14. livingSpaceRange  <--> livingSpace\n",
    "15. streetPlain <--> street\n",
    "16. pricetrend"
   ]
  },
  {
   "cell_type": "code",
   "execution_count": 11,
   "id": "a0d9d3a9",
   "metadata": {},
   "outputs": [
    {
     "data": {
      "text/plain": [
       "(267959, 26)"
      ]
     },
     "execution_count": 11,
     "metadata": {},
     "output_type": "execute_result"
    }
   ],
   "source": [
    "drop_columns = [\"date\", \"picturecount\",\n",
    "                \"geo_bln\",\"geo_krs\",\"noRoomsRange\",\"livingSpaceRange\",\"telekomUploadSpeed\",\"streetPlain\",\"baseRentRange\",\"pricetrend\",\"houseNumber\"]\n",
    "rent_data_dropped_cols = rent_data_dropped_missing_cols.drop(columns=drop_columns)\n",
    "rent_data_dropped_cols.shape"
   ]
  },
  {
   "cell_type": "code",
   "execution_count": 12,
   "id": "e46864d2",
   "metadata": {
    "scrolled": false
   },
   "outputs": [
    {
     "name": "stdout",
     "output_type": "stream",
     "text": [
      "<class 'pandas.core.frame.DataFrame'>\n",
      "Int64Index: 267959 entries, 0 to 268849\n",
      "Data columns (total 26 columns):\n",
      " #   Column                Non-Null Count   Dtype  \n",
      "---  ------                --------------   -----  \n",
      " 0   regio1                267959 non-null  object \n",
      " 1   regio3                267959 non-null  object \n",
      " 2   regio2                267959 non-null  object \n",
      " 3   garden                267959 non-null  bool   \n",
      " 4   noRooms               267959 non-null  float64\n",
      " 5   geo_plz               267959 non-null  int64  \n",
      " 6   lift                  267959 non-null  bool   \n",
      " 7   street                267959 non-null  object \n",
      " 8   livingSpace           267959 non-null  float64\n",
      " 9   baseRent              267959 non-null  float64\n",
      " 10  cellar                267959 non-null  bool   \n",
      " 11  hasKitchen            267959 non-null  bool   \n",
      " 12  newlyConst            267959 non-null  bool   \n",
      " 13  balcony               267959 non-null  bool   \n",
      " 14  serviceCharge         261085 non-null  float64\n",
      " 15  description           248272 non-null  object \n",
      " 16  telekomTvOffer        235535 non-null  object \n",
      " 17  typeOfFlat            231459 non-null  object \n",
      " 18  totalRent             227573 non-null  float64\n",
      " 19  heatingType           223249 non-null  object \n",
      " 20  floor                 216879 non-null  float64\n",
      " 21  facilities            215194 non-null  object \n",
      " 22  firingTypes           211206 non-null  object \n",
      " 23  yearConstructed       211101 non-null  float64\n",
      " 24  yearConstructedRange  211101 non-null  float64\n",
      " 25  condition             199633 non-null  object \n",
      "dtypes: bool(6), float64(8), int64(1), object(11)\n",
      "memory usage: 44.5+ MB\n"
     ]
    }
   ],
   "source": [
    "rent_data_dropped_cols.info()"
   ]
  },
  {
   "cell_type": "markdown",
   "id": "93b5ffca",
   "metadata": {},
   "source": [
    "## This is the dataframe we have so far:"
   ]
  },
  {
   "cell_type": "code",
   "execution_count": 13,
   "id": "9bc3e13e",
   "metadata": {},
   "outputs": [],
   "source": [
    "rent_data = rent_data_dropped_cols.copy()"
   ]
  },
  {
   "cell_type": "code",
   "execution_count": 14,
   "id": "fd596ef8",
   "metadata": {},
   "outputs": [
    {
     "data": {
      "text/plain": [
       "(267959, 26)"
      ]
     },
     "execution_count": 14,
     "metadata": {},
     "output_type": "execute_result"
    }
   ],
   "source": [
    "rent_data.shape"
   ]
  },
  {
   "cell_type": "markdown",
   "id": "aba76335",
   "metadata": {},
   "source": [
    "## 3. Analyzing CATEGORICAL Columns "
   ]
  },
  {
   "cell_type": "code",
   "execution_count": 15,
   "id": "8ce7a854",
   "metadata": {
    "scrolled": true
   },
   "outputs": [
    {
     "data": {
      "text/plain": [
       "['regio1',\n",
       " 'regio3',\n",
       " 'regio2',\n",
       " 'street',\n",
       " 'description',\n",
       " 'telekomTvOffer',\n",
       " 'typeOfFlat',\n",
       " 'heatingType',\n",
       " 'facilities',\n",
       " 'firingTypes',\n",
       " 'condition']"
      ]
     },
     "execution_count": 15,
     "metadata": {},
     "output_type": "execute_result"
    }
   ],
   "source": [
    "categorical_columns = rent_data.select_dtypes(include=['object']).columns.tolist()\n",
    "categorical_columns"
   ]
  },
  {
   "cell_type": "markdown",
   "id": "68f8e1a6",
   "metadata": {},
   "source": [
    "* state = regio1 -> 16 unique values \n",
    "* city = regio2 -> 419 unique values\n",
    "* locality_district = regio3 -> 8684 unique values\n",
    "* street -> 52373 unique values \n",
    "\n",
    "* firingTypes -> 133 unique values very messy values\n",
    "* DONE heatingType  ->  14 unique values\n",
    "* DONE typeOfFlat -> 11 unique values\n",
    "* DONE condition ->  11 unique values \n",
    "* DONE telekomTvOffer   - 4 unique values"
   ]
  },
  {
   "cell_type": "markdown",
   "id": "89ffc889",
   "metadata": {},
   "source": [
    "### 3.1 Feature heatingType"
   ]
  },
  {
   "cell_type": "markdown",
   "id": "f2def187",
   "metadata": {},
   "source": [
    "Checking the counts for each heatingType"
   ]
  },
  {
   "cell_type": "code",
   "execution_count": 16,
   "id": "f9f65425",
   "metadata": {
    "scrolled": true
   },
   "outputs": [
    {
     "data": {
      "text/plain": [
       "central_heating                   128567\n",
       "district_heating                   24701\n",
       "gas_heating                        19857\n",
       "self_contained_central_heating     19055\n",
       "floor_heating                      17618\n",
       "oil_heating                         5042\n",
       "heat_pump                           2734\n",
       "combined_heat_and_power_plant       1972\n",
       "night_storage_heater                1338\n",
       "wood_pellet_heating                  958\n",
       "electric_heating                     898\n",
       "stove_heating                        343\n",
       "solar_heating                        166\n",
       "Name: heatingType, dtype: int64"
      ]
     },
     "execution_count": 16,
     "metadata": {},
     "output_type": "execute_result"
    }
   ],
   "source": [
    "rent_data['heatingType'].value_counts()"
   ]
  },
  {
   "cell_type": "markdown",
   "id": "e53c4ef5",
   "metadata": {},
   "source": [
    "The most common **firingTypes** for each **heatingType** group"
   ]
  },
  {
   "cell_type": "code",
   "execution_count": 17,
   "id": "73a74559",
   "metadata": {
    "scrolled": true
   },
   "outputs": [
    {
     "name": "stdout",
     "output_type": "stream",
     "text": [
      "heatingType\n",
      "central_heating                                gas\n",
      "combined_heat_and_power_plant                  gas\n",
      "district_heating                  district_heating\n",
      "electric_heating                       electricity\n",
      "floor_heating                                  gas\n",
      "gas_heating                                    gas\n",
      "heat_pump                              electricity\n",
      "night_storage_heater                   electricity\n",
      "oil_heating                                    oil\n",
      "self_contained_central_heating                 gas\n",
      "solar_heating                                  gas\n",
      "stove_heating                                  gas\n",
      "wood_pellet_heating                 pellet_heating\n",
      "Name: firingTypes, dtype: object\n"
     ]
    }
   ],
   "source": [
    "most_used_firing_types = rent_data.groupby('heatingType')['firingTypes'].agg(lambda x: x.value_counts().idxmax())\n",
    "print(most_used_firing_types)"
   ]
  },
  {
   "cell_type": "markdown",
   "id": "da865643",
   "metadata": {},
   "source": [
    "The most frequent condition for each heatingType"
   ]
  },
  {
   "cell_type": "code",
   "execution_count": 18,
   "id": "bb1f384a",
   "metadata": {},
   "outputs": [
    {
     "name": "stdout",
     "output_type": "stream",
     "text": [
      "heatingType\n",
      "central_heating                        well_kept\n",
      "combined_heat_and_power_plant     first_time_use\n",
      "district_heating                       well_kept\n",
      "electric_heating                       well_kept\n",
      "floor_heating                     first_time_use\n",
      "gas_heating                            well_kept\n",
      "heat_pump                         first_time_use\n",
      "night_storage_heater                   well_kept\n",
      "oil_heating                            well_kept\n",
      "self_contained_central_heating         well_kept\n",
      "solar_heating                     mint_condition\n",
      "stove_heating                          well_kept\n",
      "wood_pellet_heating               first_time_use\n",
      "Name: condition, dtype: object\n"
     ]
    }
   ],
   "source": [
    "most_frequent_condition = rent_data.groupby('heatingType')['condition'].apply(lambda x: x.mode().iloc[0])\n",
    "print(most_frequent_condition)"
   ]
  },
  {
   "cell_type": "markdown",
   "id": "dbeccfe1",
   "metadata": {},
   "source": [
    "Calculating the median totalRent for each group of heatingType. And we see that group **floor_heating** has the highest median of totalRent."
   ]
  },
  {
   "cell_type": "code",
   "execution_count": 19,
   "id": "67c257d4",
   "metadata": {},
   "outputs": [
    {
     "data": {
      "text/html": [
       "<div>\n",
       "<style scoped>\n",
       "    .dataframe tbody tr th:only-of-type {\n",
       "        vertical-align: middle;\n",
       "    }\n",
       "\n",
       "    .dataframe tbody tr th {\n",
       "        vertical-align: top;\n",
       "    }\n",
       "\n",
       "    .dataframe thead th {\n",
       "        text-align: right;\n",
       "    }\n",
       "</style>\n",
       "<table border=\"1\" class=\"dataframe\">\n",
       "  <thead>\n",
       "    <tr style=\"text-align: right;\">\n",
       "      <th></th>\n",
       "      <th>heatingType</th>\n",
       "      <th>totalRent</th>\n",
       "    </tr>\n",
       "  </thead>\n",
       "  <tbody>\n",
       "    <tr>\n",
       "      <th>0</th>\n",
       "      <td>floor_heating</td>\n",
       "      <td>1187.15</td>\n",
       "    </tr>\n",
       "    <tr>\n",
       "      <th>1</th>\n",
       "      <td>heat_pump</td>\n",
       "      <td>1100.00</td>\n",
       "    </tr>\n",
       "    <tr>\n",
       "      <th>2</th>\n",
       "      <td>combined_heat_and_power_plant</td>\n",
       "      <td>1086.00</td>\n",
       "    </tr>\n",
       "    <tr>\n",
       "      <th>3</th>\n",
       "      <td>solar_heating</td>\n",
       "      <td>1030.00</td>\n",
       "    </tr>\n",
       "    <tr>\n",
       "      <th>4</th>\n",
       "      <td>wood_pellet_heating</td>\n",
       "      <td>990.00</td>\n",
       "    </tr>\n",
       "    <tr>\n",
       "      <th>5</th>\n",
       "      <td>oil_heating</td>\n",
       "      <td>750.00</td>\n",
       "    </tr>\n",
       "    <tr>\n",
       "      <th>6</th>\n",
       "      <td>gas_heating</td>\n",
       "      <td>690.00</td>\n",
       "    </tr>\n",
       "    <tr>\n",
       "      <th>7</th>\n",
       "      <td>self_contained_central_heating</td>\n",
       "      <td>606.79</td>\n",
       "    </tr>\n",
       "    <tr>\n",
       "      <th>8</th>\n",
       "      <td>central_heating</td>\n",
       "      <td>600.00</td>\n",
       "    </tr>\n",
       "    <tr>\n",
       "      <th>9</th>\n",
       "      <td>district_heating</td>\n",
       "      <td>585.00</td>\n",
       "    </tr>\n",
       "    <tr>\n",
       "      <th>10</th>\n",
       "      <td>electric_heating</td>\n",
       "      <td>583.68</td>\n",
       "    </tr>\n",
       "    <tr>\n",
       "      <th>11</th>\n",
       "      <td>stove_heating</td>\n",
       "      <td>525.00</td>\n",
       "    </tr>\n",
       "    <tr>\n",
       "      <th>12</th>\n",
       "      <td>night_storage_heater</td>\n",
       "      <td>510.00</td>\n",
       "    </tr>\n",
       "  </tbody>\n",
       "</table>\n",
       "</div>"
      ],
      "text/plain": [
       "                       heatingType  totalRent\n",
       "0                    floor_heating    1187.15\n",
       "1                        heat_pump    1100.00\n",
       "2    combined_heat_and_power_plant    1086.00\n",
       "3                    solar_heating    1030.00\n",
       "4              wood_pellet_heating     990.00\n",
       "5                      oil_heating     750.00\n",
       "6                      gas_heating     690.00\n",
       "7   self_contained_central_heating     606.79\n",
       "8                  central_heating     600.00\n",
       "9                 district_heating     585.00\n",
       "10                electric_heating     583.68\n",
       "11                   stove_heating     525.00\n",
       "12            night_storage_heater     510.00"
      ]
     },
     "execution_count": 19,
     "metadata": {},
     "output_type": "execute_result"
    }
   ],
   "source": [
    "rent_data.groupby(['heatingType'])['totalRent'].agg('median').sort_values(ascending=False).reset_index().round(2)"
   ]
  },
  {
   "cell_type": "markdown",
   "id": "7db80b29",
   "metadata": {},
   "source": [
    "Calculating the count of buildings based on the heatingType. "
   ]
  },
  {
   "cell_type": "code",
   "execution_count": 20,
   "id": "01099cde",
   "metadata": {},
   "outputs": [
    {
     "data": {
      "text/html": [
       "<div>\n",
       "<style scoped>\n",
       "    .dataframe tbody tr th:only-of-type {\n",
       "        vertical-align: middle;\n",
       "    }\n",
       "\n",
       "    .dataframe tbody tr th {\n",
       "        vertical-align: top;\n",
       "    }\n",
       "\n",
       "    .dataframe thead th {\n",
       "        text-align: right;\n",
       "    }\n",
       "</style>\n",
       "<table border=\"1\" class=\"dataframe\">\n",
       "  <thead>\n",
       "    <tr style=\"text-align: right;\">\n",
       "      <th></th>\n",
       "      <th>heatingType</th>\n",
       "      <th>totalRent</th>\n",
       "    </tr>\n",
       "  </thead>\n",
       "  <tbody>\n",
       "    <tr>\n",
       "      <th>0</th>\n",
       "      <td>central_heating</td>\n",
       "      <td>109437</td>\n",
       "    </tr>\n",
       "    <tr>\n",
       "      <th>1</th>\n",
       "      <td>district_heating</td>\n",
       "      <td>21213</td>\n",
       "    </tr>\n",
       "    <tr>\n",
       "      <th>2</th>\n",
       "      <td>gas_heating</td>\n",
       "      <td>18181</td>\n",
       "    </tr>\n",
       "    <tr>\n",
       "      <th>3</th>\n",
       "      <td>floor_heating</td>\n",
       "      <td>15595</td>\n",
       "    </tr>\n",
       "    <tr>\n",
       "      <th>4</th>\n",
       "      <td>self_contained_central_heating</td>\n",
       "      <td>14739</td>\n",
       "    </tr>\n",
       "    <tr>\n",
       "      <th>5</th>\n",
       "      <td>oil_heating</td>\n",
       "      <td>4583</td>\n",
       "    </tr>\n",
       "    <tr>\n",
       "      <th>6</th>\n",
       "      <td>heat_pump</td>\n",
       "      <td>2216</td>\n",
       "    </tr>\n",
       "    <tr>\n",
       "      <th>7</th>\n",
       "      <td>combined_heat_and_power_plant</td>\n",
       "      <td>1773</td>\n",
       "    </tr>\n",
       "    <tr>\n",
       "      <th>8</th>\n",
       "      <td>night_storage_heater</td>\n",
       "      <td>1137</td>\n",
       "    </tr>\n",
       "    <tr>\n",
       "      <th>9</th>\n",
       "      <td>wood_pellet_heating</td>\n",
       "      <td>863</td>\n",
       "    </tr>\n",
       "    <tr>\n",
       "      <th>10</th>\n",
       "      <td>electric_heating</td>\n",
       "      <td>732</td>\n",
       "    </tr>\n",
       "    <tr>\n",
       "      <th>11</th>\n",
       "      <td>stove_heating</td>\n",
       "      <td>251</td>\n",
       "    </tr>\n",
       "    <tr>\n",
       "      <th>12</th>\n",
       "      <td>solar_heating</td>\n",
       "      <td>150</td>\n",
       "    </tr>\n",
       "  </tbody>\n",
       "</table>\n",
       "</div>"
      ],
      "text/plain": [
       "                       heatingType  totalRent\n",
       "0                  central_heating     109437\n",
       "1                 district_heating      21213\n",
       "2                      gas_heating      18181\n",
       "3                    floor_heating      15595\n",
       "4   self_contained_central_heating      14739\n",
       "5                      oil_heating       4583\n",
       "6                        heat_pump       2216\n",
       "7    combined_heat_and_power_plant       1773\n",
       "8             night_storage_heater       1137\n",
       "9              wood_pellet_heating        863\n",
       "10                electric_heating        732\n",
       "11                   stove_heating        251\n",
       "12                   solar_heating        150"
      ]
     },
     "execution_count": 20,
     "metadata": {},
     "output_type": "execute_result"
    }
   ],
   "source": [
    "rent_data.groupby(['heatingType'])['totalRent'].agg('count').sort_values(ascending=False).reset_index().round(2)"
   ]
  },
  {
   "cell_type": "markdown",
   "id": "a4205da5",
   "metadata": {},
   "source": [
    "### 3.2 Feature telekomTvOffer"
   ]
  },
  {
   "cell_type": "code",
   "execution_count": 21,
   "id": "cc82020c",
   "metadata": {},
   "outputs": [
    {
     "data": {
      "text/plain": [
       "ONE_YEAR_FREE    226948\n",
       "NONE               4951\n",
       "ON_DEMAND          3636\n",
       "Name: telekomTvOffer, dtype: int64"
      ]
     },
     "execution_count": 21,
     "metadata": {},
     "output_type": "execute_result"
    }
   ],
   "source": [
    "rent_data['telekomTvOffer'].value_counts()"
   ]
  },
  {
   "cell_type": "markdown",
   "id": "4ee332e6",
   "metadata": {},
   "source": [
    "Average totalRent based on each telekomTvOffer. **I see that the totalRent doesnt vary much from one tvoffer to the other.** Maybe I wont use it in my model at all. "
   ]
  },
  {
   "cell_type": "code",
   "execution_count": 22,
   "id": "b636635c",
   "metadata": {
    "scrolled": true
   },
   "outputs": [
    {
     "data": {
      "text/html": [
       "<div>\n",
       "<style scoped>\n",
       "    .dataframe tbody tr th:only-of-type {\n",
       "        vertical-align: middle;\n",
       "    }\n",
       "\n",
       "    .dataframe tbody tr th {\n",
       "        vertical-align: top;\n",
       "    }\n",
       "\n",
       "    .dataframe thead th {\n",
       "        text-align: right;\n",
       "    }\n",
       "</style>\n",
       "<table border=\"1\" class=\"dataframe\">\n",
       "  <thead>\n",
       "    <tr style=\"text-align: right;\">\n",
       "      <th></th>\n",
       "      <th>telekomTvOffer</th>\n",
       "      <th>totalRent</th>\n",
       "    </tr>\n",
       "  </thead>\n",
       "  <tbody>\n",
       "    <tr>\n",
       "      <th>0</th>\n",
       "      <td>ONE_YEAR_FREE</td>\n",
       "      <td>630.0</td>\n",
       "    </tr>\n",
       "    <tr>\n",
       "      <th>1</th>\n",
       "      <td>NONE</td>\n",
       "      <td>600.0</td>\n",
       "    </tr>\n",
       "    <tr>\n",
       "      <th>2</th>\n",
       "      <td>ON_DEMAND</td>\n",
       "      <td>575.0</td>\n",
       "    </tr>\n",
       "  </tbody>\n",
       "</table>\n",
       "</div>"
      ],
      "text/plain": [
       "  telekomTvOffer  totalRent\n",
       "0  ONE_YEAR_FREE      630.0\n",
       "1           NONE      600.0\n",
       "2      ON_DEMAND      575.0"
      ]
     },
     "execution_count": 22,
     "metadata": {},
     "output_type": "execute_result"
    }
   ],
   "source": [
    "rent_data.groupby(['telekomTvOffer'])['totalRent'].agg('median').sort_values(ascending=False).reset_index().round(2)"
   ]
  },
  {
   "cell_type": "markdown",
   "id": "c4ee0804",
   "metadata": {},
   "source": [
    "Checking the correlation between telekomTvOffer and totalRent.\n",
    "- since telekomTvOffer is categorical we encode it using LabelEncoder.\n",
    "- than we calculate the correlation."
   ]
  },
  {
   "cell_type": "code",
   "execution_count": 23,
   "id": "1dad63ca",
   "metadata": {},
   "outputs": [
    {
     "name": "stdout",
     "output_type": "stream",
     "text": [
      "                        telekomTvOffer_encoded  totalRent\n",
      "telekomTvOffer_encoded                1.000000   0.001197\n",
      "totalRent                             0.001197   1.000000\n"
     ]
    }
   ],
   "source": [
    "# Create a copy of the DataFrame to avoid modifying the original data\n",
    "df_encoded = rent_data.copy()\n",
    "\n",
    "# Use LabelEncoder to encode 'telekomTvOffer' into numerical values\n",
    "label_encoder = LabelEncoder()\n",
    "df_encoded['telekomTvOffer_encoded'] = label_encoder.fit_transform(rent_data['telekomTvOffer'])\n",
    "\n",
    "# Calculate Pearson correlation\n",
    "correlation_matrix = df_encoded[['telekomTvOffer_encoded', 'totalRent']].corr()\n",
    "\n",
    "# Displaying the correlation matrix\n",
    "print(correlation_matrix)"
   ]
  },
  {
   "cell_type": "markdown",
   "id": "c4724807",
   "metadata": {},
   "source": [
    "##### If I decide to use it here is the one-hot-encoding for this feature:"
   ]
  },
  {
   "cell_type": "code",
   "execution_count": 24,
   "id": "6be28704",
   "metadata": {},
   "outputs": [
    {
     "data": {
      "text/html": [
       "<div>\n",
       "<style scoped>\n",
       "    .dataframe tbody tr th:only-of-type {\n",
       "        vertical-align: middle;\n",
       "    }\n",
       "\n",
       "    .dataframe tbody tr th {\n",
       "        vertical-align: top;\n",
       "    }\n",
       "\n",
       "    .dataframe thead th {\n",
       "        text-align: right;\n",
       "    }\n",
       "</style>\n",
       "<table border=\"1\" class=\"dataframe\">\n",
       "  <thead>\n",
       "    <tr style=\"text-align: right;\">\n",
       "      <th></th>\n",
       "      <th>telekomTvOffer_ONE_YEAR_FREE</th>\n",
       "      <th>telekomTvOffer_ON_DEMAND</th>\n",
       "      <th>telekomTvOffer_nan</th>\n",
       "    </tr>\n",
       "  </thead>\n",
       "  <tbody>\n",
       "    <tr>\n",
       "      <th>0</th>\n",
       "      <td>1</td>\n",
       "      <td>0</td>\n",
       "      <td>0</td>\n",
       "    </tr>\n",
       "    <tr>\n",
       "      <th>1</th>\n",
       "      <td>1</td>\n",
       "      <td>0</td>\n",
       "      <td>0</td>\n",
       "    </tr>\n",
       "    <tr>\n",
       "      <th>2</th>\n",
       "      <td>1</td>\n",
       "      <td>0</td>\n",
       "      <td>0</td>\n",
       "    </tr>\n",
       "    <tr>\n",
       "      <th>3</th>\n",
       "      <td>1</td>\n",
       "      <td>0</td>\n",
       "      <td>0</td>\n",
       "    </tr>\n",
       "    <tr>\n",
       "      <th>4</th>\n",
       "      <td>0</td>\n",
       "      <td>0</td>\n",
       "      <td>1</td>\n",
       "    </tr>\n",
       "    <tr>\n",
       "      <th>...</th>\n",
       "      <td>...</td>\n",
       "      <td>...</td>\n",
       "      <td>...</td>\n",
       "    </tr>\n",
       "    <tr>\n",
       "      <th>268845</th>\n",
       "      <td>1</td>\n",
       "      <td>0</td>\n",
       "      <td>0</td>\n",
       "    </tr>\n",
       "    <tr>\n",
       "      <th>268846</th>\n",
       "      <td>0</td>\n",
       "      <td>0</td>\n",
       "      <td>1</td>\n",
       "    </tr>\n",
       "    <tr>\n",
       "      <th>268847</th>\n",
       "      <td>1</td>\n",
       "      <td>0</td>\n",
       "      <td>0</td>\n",
       "    </tr>\n",
       "    <tr>\n",
       "      <th>268848</th>\n",
       "      <td>0</td>\n",
       "      <td>0</td>\n",
       "      <td>1</td>\n",
       "    </tr>\n",
       "    <tr>\n",
       "      <th>268849</th>\n",
       "      <td>0</td>\n",
       "      <td>0</td>\n",
       "      <td>1</td>\n",
       "    </tr>\n",
       "  </tbody>\n",
       "</table>\n",
       "<p>267959 rows × 3 columns</p>\n",
       "</div>"
      ],
      "text/plain": [
       "        telekomTvOffer_ONE_YEAR_FREE  telekomTvOffer_ON_DEMAND  \\\n",
       "0                                  1                         0   \n",
       "1                                  1                         0   \n",
       "2                                  1                         0   \n",
       "3                                  1                         0   \n",
       "4                                  0                         0   \n",
       "...                              ...                       ...   \n",
       "268845                             1                         0   \n",
       "268846                             0                         0   \n",
       "268847                             1                         0   \n",
       "268848                             0                         0   \n",
       "268849                             0                         0   \n",
       "\n",
       "        telekomTvOffer_nan  \n",
       "0                        0  \n",
       "1                        0  \n",
       "2                        0  \n",
       "3                        0  \n",
       "4                        1  \n",
       "...                    ...  \n",
       "268845                   0  \n",
       "268846                   1  \n",
       "268847                   0  \n",
       "268848                   1  \n",
       "268849                   1  \n",
       "\n",
       "[267959 rows x 3 columns]"
      ]
     },
     "execution_count": 24,
     "metadata": {},
     "output_type": "execute_result"
    }
   ],
   "source": [
    "rent_data['telekomTvOffer'] = rent_data['telekomTvOffer'].replace('NONE', np.nan)\n",
    "df_telekomTvOffer = pd.get_dummies(rent_data['telekomTvOffer'], prefix='telekomTvOffer', dummy_na=True)\n",
    "df_telekomTvOffer"
   ]
  },
  {
   "cell_type": "markdown",
   "id": "63b9067b",
   "metadata": {},
   "source": [
    "### 3.3 Feature typeOfFlat"
   ]
  },
  {
   "cell_type": "code",
   "execution_count": 25,
   "id": "4eb2bbaf",
   "metadata": {},
   "outputs": [
    {
     "data": {
      "text/plain": [
       "apartment              131056\n",
       "roof_storey             34668\n",
       "ground_floor            31447\n",
       "other                    9488\n",
       "maisonette               9298\n",
       "raised_ground_floor      5611\n",
       "penthouse                3547\n",
       "terraced_flat            3377\n",
       "half_basement            2011\n",
       "loft                      956\n",
       "Name: typeOfFlat, dtype: int64"
      ]
     },
     "execution_count": 25,
     "metadata": {},
     "output_type": "execute_result"
    }
   ],
   "source": [
    "rent_data['typeOfFlat'].value_counts()"
   ]
  },
  {
   "cell_type": "markdown",
   "id": "6c77dd2b",
   "metadata": {},
   "source": [
    "The average totalRent based on each group of typeOfFlat"
   ]
  },
  {
   "cell_type": "code",
   "execution_count": 26,
   "id": "5340776c",
   "metadata": {},
   "outputs": [
    {
     "data": {
      "text/html": [
       "<div>\n",
       "<style scoped>\n",
       "    .dataframe tbody tr th:only-of-type {\n",
       "        vertical-align: middle;\n",
       "    }\n",
       "\n",
       "    .dataframe tbody tr th {\n",
       "        vertical-align: top;\n",
       "    }\n",
       "\n",
       "    .dataframe thead th {\n",
       "        text-align: right;\n",
       "    }\n",
       "</style>\n",
       "<table border=\"1\" class=\"dataframe\">\n",
       "  <thead>\n",
       "    <tr style=\"text-align: right;\">\n",
       "      <th></th>\n",
       "      <th>typeOfFlat</th>\n",
       "      <th>totalRent</th>\n",
       "    </tr>\n",
       "  </thead>\n",
       "  <tbody>\n",
       "    <tr>\n",
       "      <th>0</th>\n",
       "      <td>penthouse</td>\n",
       "      <td>1613.00</td>\n",
       "    </tr>\n",
       "    <tr>\n",
       "      <th>1</th>\n",
       "      <td>loft</td>\n",
       "      <td>1249.50</td>\n",
       "    </tr>\n",
       "    <tr>\n",
       "      <th>2</th>\n",
       "      <td>maisonette</td>\n",
       "      <td>1130.00</td>\n",
       "    </tr>\n",
       "    <tr>\n",
       "      <th>3</th>\n",
       "      <td>terraced_flat</td>\n",
       "      <td>1052.50</td>\n",
       "    </tr>\n",
       "    <tr>\n",
       "      <th>4</th>\n",
       "      <td>ground_floor</td>\n",
       "      <td>650.00</td>\n",
       "    </tr>\n",
       "    <tr>\n",
       "      <th>5</th>\n",
       "      <td>apartment</td>\n",
       "      <td>647.34</td>\n",
       "    </tr>\n",
       "    <tr>\n",
       "      <th>6</th>\n",
       "      <td>roof_storey</td>\n",
       "      <td>626.64</td>\n",
       "    </tr>\n",
       "    <tr>\n",
       "      <th>7</th>\n",
       "      <td>raised_ground_floor</td>\n",
       "      <td>624.00</td>\n",
       "    </tr>\n",
       "    <tr>\n",
       "      <th>8</th>\n",
       "      <td>other</td>\n",
       "      <td>620.00</td>\n",
       "    </tr>\n",
       "    <tr>\n",
       "      <th>9</th>\n",
       "      <td>half_basement</td>\n",
       "      <td>600.00</td>\n",
       "    </tr>\n",
       "  </tbody>\n",
       "</table>\n",
       "</div>"
      ],
      "text/plain": [
       "            typeOfFlat  totalRent\n",
       "0            penthouse    1613.00\n",
       "1                 loft    1249.50\n",
       "2           maisonette    1130.00\n",
       "3        terraced_flat    1052.50\n",
       "4         ground_floor     650.00\n",
       "5            apartment     647.34\n",
       "6          roof_storey     626.64\n",
       "7  raised_ground_floor     624.00\n",
       "8                other     620.00\n",
       "9        half_basement     600.00"
      ]
     },
     "execution_count": 26,
     "metadata": {},
     "output_type": "execute_result"
    }
   ],
   "source": [
    "rent_data.groupby(['typeOfFlat'])['totalRent'].agg('median').sort_values(ascending=False).reset_index().round(2)"
   ]
  },
  {
   "cell_type": "markdown",
   "id": "60093503",
   "metadata": {},
   "source": [
    "##### One-Hot Encoding typeOfFlat\n",
    "Since the average totalRent for \n",
    "- apartment            \n",
    "- roof_storey           \n",
    "- ground_floor\n",
    "- raised_ground_floor\n",
    "- half_basement\n",
    "- other\n",
    "\n",
    "Doesnt vary much we introduce a new category that inclued all these types of buildings and we call it **non_luxury_type**"
   ]
  },
  {
   "cell_type": "code",
   "execution_count": 27,
   "id": "dfa8b5c6",
   "metadata": {},
   "outputs": [
    {
     "data": {
      "text/html": [
       "<div>\n",
       "<style scoped>\n",
       "    .dataframe tbody tr th:only-of-type {\n",
       "        vertical-align: middle;\n",
       "    }\n",
       "\n",
       "    .dataframe tbody tr th {\n",
       "        vertical-align: top;\n",
       "    }\n",
       "\n",
       "    .dataframe thead th {\n",
       "        text-align: right;\n",
       "    }\n",
       "</style>\n",
       "<table border=\"1\" class=\"dataframe\">\n",
       "  <thead>\n",
       "    <tr style=\"text-align: right;\">\n",
       "      <th></th>\n",
       "      <th>typeOfFlat_loft</th>\n",
       "      <th>typeOfFlat_maisonette</th>\n",
       "      <th>typeOfFlat_non_luxury_type</th>\n",
       "      <th>typeOfFlat_penthouse</th>\n",
       "      <th>typeOfFlat_terraced_flat</th>\n",
       "    </tr>\n",
       "  </thead>\n",
       "  <tbody>\n",
       "    <tr>\n",
       "      <th>25699</th>\n",
       "      <td>0</td>\n",
       "      <td>0</td>\n",
       "      <td>1</td>\n",
       "      <td>0</td>\n",
       "      <td>0</td>\n",
       "    </tr>\n",
       "    <tr>\n",
       "      <th>185388</th>\n",
       "      <td>0</td>\n",
       "      <td>0</td>\n",
       "      <td>1</td>\n",
       "      <td>0</td>\n",
       "      <td>0</td>\n",
       "    </tr>\n",
       "    <tr>\n",
       "      <th>61414</th>\n",
       "      <td>0</td>\n",
       "      <td>0</td>\n",
       "      <td>1</td>\n",
       "      <td>0</td>\n",
       "      <td>0</td>\n",
       "    </tr>\n",
       "    <tr>\n",
       "      <th>3431</th>\n",
       "      <td>0</td>\n",
       "      <td>0</td>\n",
       "      <td>1</td>\n",
       "      <td>0</td>\n",
       "      <td>0</td>\n",
       "    </tr>\n",
       "    <tr>\n",
       "      <th>259552</th>\n",
       "      <td>0</td>\n",
       "      <td>0</td>\n",
       "      <td>1</td>\n",
       "      <td>0</td>\n",
       "      <td>0</td>\n",
       "    </tr>\n",
       "  </tbody>\n",
       "</table>\n",
       "</div>"
      ],
      "text/plain": [
       "        typeOfFlat_loft  typeOfFlat_maisonette  typeOfFlat_non_luxury_type  \\\n",
       "25699                 0                      0                           1   \n",
       "185388                0                      0                           1   \n",
       "61414                 0                      0                           1   \n",
       "3431                  0                      0                           1   \n",
       "259552                0                      0                           1   \n",
       "\n",
       "        typeOfFlat_penthouse  typeOfFlat_terraced_flat  \n",
       "25699                      0                         0  \n",
       "185388                     0                         0  \n",
       "61414                      0                         0  \n",
       "3431                       0                         0  \n",
       "259552                     0                         0  "
      ]
     },
     "execution_count": 27,
     "metadata": {},
     "output_type": "execute_result"
    }
   ],
   "source": [
    "rent_data['typeOfFlat'] = rent_data['typeOfFlat'].fillna('other')\n",
    "rent_data.loc[rent_data['typeOfFlat'].str.contains('ground_floor|apartment|roof_storey|raised_ground_floor|other|half_basement', na=False), 'typeOfFlat'] = 'non_luxury_type'\n",
    "df_typeOfFlat = pd.get_dummies(rent_data['typeOfFlat'], prefix='typeOfFlat')\n",
    "df_typeOfFlat.sample(5)"
   ]
  },
  {
   "cell_type": "code",
   "execution_count": 28,
   "id": "18e1c459",
   "metadata": {},
   "outputs": [
    {
     "data": {
      "text/html": [
       "<div>\n",
       "<style scoped>\n",
       "    .dataframe tbody tr th:only-of-type {\n",
       "        vertical-align: middle;\n",
       "    }\n",
       "\n",
       "    .dataframe tbody tr th {\n",
       "        vertical-align: top;\n",
       "    }\n",
       "\n",
       "    .dataframe thead th {\n",
       "        text-align: right;\n",
       "    }\n",
       "</style>\n",
       "<table border=\"1\" class=\"dataframe\">\n",
       "  <thead>\n",
       "    <tr style=\"text-align: right;\">\n",
       "      <th></th>\n",
       "      <th>regio1</th>\n",
       "      <th>regio3</th>\n",
       "      <th>regio2</th>\n",
       "      <th>garden</th>\n",
       "      <th>noRooms</th>\n",
       "      <th>geo_plz</th>\n",
       "      <th>lift</th>\n",
       "      <th>street</th>\n",
       "      <th>livingSpace</th>\n",
       "      <th>baseRent</th>\n",
       "      <th>cellar</th>\n",
       "      <th>hasKitchen</th>\n",
       "      <th>newlyConst</th>\n",
       "      <th>balcony</th>\n",
       "      <th>serviceCharge</th>\n",
       "      <th>description</th>\n",
       "      <th>telekomTvOffer</th>\n",
       "      <th>typeOfFlat</th>\n",
       "      <th>totalRent</th>\n",
       "      <th>heatingType</th>\n",
       "      <th>floor</th>\n",
       "      <th>facilities</th>\n",
       "      <th>firingTypes</th>\n",
       "      <th>yearConstructed</th>\n",
       "      <th>yearConstructedRange</th>\n",
       "      <th>condition</th>\n",
       "      <th>typeOfFlat_loft</th>\n",
       "      <th>typeOfFlat_maisonette</th>\n",
       "      <th>typeOfFlat_non_luxury_type</th>\n",
       "      <th>typeOfFlat_penthouse</th>\n",
       "      <th>typeOfFlat_terraced_flat</th>\n",
       "    </tr>\n",
       "  </thead>\n",
       "  <tbody>\n",
       "    <tr>\n",
       "      <th>0</th>\n",
       "      <td>Nordrhein_Westfalen</td>\n",
       "      <td>Schüren</td>\n",
       "      <td>Dortmund</td>\n",
       "      <td>True</td>\n",
       "      <td>4.0</td>\n",
       "      <td>44269</td>\n",
       "      <td>False</td>\n",
       "      <td>Sch&amp;uuml;ruferstra&amp;szlig;e</td>\n",
       "      <td>86.00</td>\n",
       "      <td>595.0</td>\n",
       "      <td>True</td>\n",
       "      <td>False</td>\n",
       "      <td>False</td>\n",
       "      <td>False</td>\n",
       "      <td>245.00</td>\n",
       "      <td>Die ebenerdig zu erreichende Erdgeschosswohnun...</td>\n",
       "      <td>ONE_YEAR_FREE</td>\n",
       "      <td>non_luxury_type</td>\n",
       "      <td>840.0</td>\n",
       "      <td>central_heating</td>\n",
       "      <td>1.0</td>\n",
       "      <td>Die Wohnung ist mit Laminat ausgelegt. Das Bad...</td>\n",
       "      <td>oil</td>\n",
       "      <td>1965.0</td>\n",
       "      <td>2.0</td>\n",
       "      <td>well_kept</td>\n",
       "      <td>0</td>\n",
       "      <td>0</td>\n",
       "      <td>1</td>\n",
       "      <td>0</td>\n",
       "      <td>0</td>\n",
       "    </tr>\n",
       "    <tr>\n",
       "      <th>1</th>\n",
       "      <td>Rheinland_Pfalz</td>\n",
       "      <td>Böhl_Iggelheim</td>\n",
       "      <td>Rhein_Pfalz_Kreis</td>\n",
       "      <td>False</td>\n",
       "      <td>3.0</td>\n",
       "      <td>67459</td>\n",
       "      <td>False</td>\n",
       "      <td>no_information</td>\n",
       "      <td>89.00</td>\n",
       "      <td>800.0</td>\n",
       "      <td>False</td>\n",
       "      <td>False</td>\n",
       "      <td>False</td>\n",
       "      <td>True</td>\n",
       "      <td>134.00</td>\n",
       "      <td>Alles neu macht der Mai – so kann es auch für ...</td>\n",
       "      <td>ONE_YEAR_FREE</td>\n",
       "      <td>non_luxury_type</td>\n",
       "      <td>NaN</td>\n",
       "      <td>self_contained_central_heating</td>\n",
       "      <td>NaN</td>\n",
       "      <td>NaN</td>\n",
       "      <td>gas</td>\n",
       "      <td>1871.0</td>\n",
       "      <td>1.0</td>\n",
       "      <td>refurbished</td>\n",
       "      <td>0</td>\n",
       "      <td>0</td>\n",
       "      <td>1</td>\n",
       "      <td>0</td>\n",
       "      <td>0</td>\n",
       "    </tr>\n",
       "    <tr>\n",
       "      <th>2</th>\n",
       "      <td>Sachsen</td>\n",
       "      <td>Äußere_Neustadt_Antonstadt</td>\n",
       "      <td>Dresden</td>\n",
       "      <td>False</td>\n",
       "      <td>3.0</td>\n",
       "      <td>1097</td>\n",
       "      <td>True</td>\n",
       "      <td>Turnerweg</td>\n",
       "      <td>83.80</td>\n",
       "      <td>965.0</td>\n",
       "      <td>True</td>\n",
       "      <td>False</td>\n",
       "      <td>True</td>\n",
       "      <td>True</td>\n",
       "      <td>255.00</td>\n",
       "      <td>Der Neubau entsteht im Herzen der Dresdner Neu...</td>\n",
       "      <td>ONE_YEAR_FREE</td>\n",
       "      <td>non_luxury_type</td>\n",
       "      <td>1300.0</td>\n",
       "      <td>floor_heating</td>\n",
       "      <td>3.0</td>\n",
       "      <td>* 9 m² Balkon\\n* Bad mit bodengleicher Dusche,...</td>\n",
       "      <td>NaN</td>\n",
       "      <td>2019.0</td>\n",
       "      <td>9.0</td>\n",
       "      <td>first_time_use</td>\n",
       "      <td>0</td>\n",
       "      <td>0</td>\n",
       "      <td>1</td>\n",
       "      <td>0</td>\n",
       "      <td>0</td>\n",
       "    </tr>\n",
       "    <tr>\n",
       "      <th>3</th>\n",
       "      <td>Sachsen</td>\n",
       "      <td>Freiberg</td>\n",
       "      <td>Mittelsachsen_Kreis</td>\n",
       "      <td>False</td>\n",
       "      <td>3.0</td>\n",
       "      <td>9599</td>\n",
       "      <td>False</td>\n",
       "      <td>Gl&amp;uuml;ck-Auf-Stra&amp;szlig;e</td>\n",
       "      <td>58.15</td>\n",
       "      <td>343.0</td>\n",
       "      <td>False</td>\n",
       "      <td>False</td>\n",
       "      <td>False</td>\n",
       "      <td>True</td>\n",
       "      <td>58.15</td>\n",
       "      <td>Abseits von Lärm und Abgasen in Ihre neue Wohn...</td>\n",
       "      <td>ONE_YEAR_FREE</td>\n",
       "      <td>non_luxury_type</td>\n",
       "      <td>NaN</td>\n",
       "      <td>district_heating</td>\n",
       "      <td>3.0</td>\n",
       "      <td>NaN</td>\n",
       "      <td>district_heating</td>\n",
       "      <td>1964.0</td>\n",
       "      <td>2.0</td>\n",
       "      <td>NaN</td>\n",
       "      <td>0</td>\n",
       "      <td>0</td>\n",
       "      <td>1</td>\n",
       "      <td>0</td>\n",
       "      <td>0</td>\n",
       "    </tr>\n",
       "    <tr>\n",
       "      <th>4</th>\n",
       "      <td>Bremen</td>\n",
       "      <td>Neu_Schwachhausen</td>\n",
       "      <td>Bremen</td>\n",
       "      <td>False</td>\n",
       "      <td>3.0</td>\n",
       "      <td>28213</td>\n",
       "      <td>False</td>\n",
       "      <td>Hermann-Henrich-Meier-Allee</td>\n",
       "      <td>84.97</td>\n",
       "      <td>765.0</td>\n",
       "      <td>False</td>\n",
       "      <td>False</td>\n",
       "      <td>False</td>\n",
       "      <td>True</td>\n",
       "      <td>138.00</td>\n",
       "      <td>Es handelt sich hier um ein saniertes Mehrfami...</td>\n",
       "      <td>NaN</td>\n",
       "      <td>non_luxury_type</td>\n",
       "      <td>903.0</td>\n",
       "      <td>self_contained_central_heating</td>\n",
       "      <td>1.0</td>\n",
       "      <td>Diese Wohnung wurde neu saniert und ist wie fo...</td>\n",
       "      <td>gas</td>\n",
       "      <td>1950.0</td>\n",
       "      <td>1.0</td>\n",
       "      <td>refurbished</td>\n",
       "      <td>0</td>\n",
       "      <td>0</td>\n",
       "      <td>1</td>\n",
       "      <td>0</td>\n",
       "      <td>0</td>\n",
       "    </tr>\n",
       "    <tr>\n",
       "      <th>...</th>\n",
       "      <td>...</td>\n",
       "      <td>...</td>\n",
       "      <td>...</td>\n",
       "      <td>...</td>\n",
       "      <td>...</td>\n",
       "      <td>...</td>\n",
       "      <td>...</td>\n",
       "      <td>...</td>\n",
       "      <td>...</td>\n",
       "      <td>...</td>\n",
       "      <td>...</td>\n",
       "      <td>...</td>\n",
       "      <td>...</td>\n",
       "      <td>...</td>\n",
       "      <td>...</td>\n",
       "      <td>...</td>\n",
       "      <td>...</td>\n",
       "      <td>...</td>\n",
       "      <td>...</td>\n",
       "      <td>...</td>\n",
       "      <td>...</td>\n",
       "      <td>...</td>\n",
       "      <td>...</td>\n",
       "      <td>...</td>\n",
       "      <td>...</td>\n",
       "      <td>...</td>\n",
       "      <td>...</td>\n",
       "      <td>...</td>\n",
       "      <td>...</td>\n",
       "      <td>...</td>\n",
       "      <td>...</td>\n",
       "    </tr>\n",
       "    <tr>\n",
       "      <th>268845</th>\n",
       "      <td>Bayern</td>\n",
       "      <td>Eberfing</td>\n",
       "      <td>Weilheim_Schongau_Kreis</td>\n",
       "      <td>False</td>\n",
       "      <td>3.0</td>\n",
       "      <td>82390</td>\n",
       "      <td>False</td>\n",
       "      <td>no_information</td>\n",
       "      <td>90.00</td>\n",
       "      <td>820.0</td>\n",
       "      <td>True</td>\n",
       "      <td>False</td>\n",
       "      <td>False</td>\n",
       "      <td>True</td>\n",
       "      <td>90.00</td>\n",
       "      <td>Diese schöne, neuwertige Wohnung im Dachgescho...</td>\n",
       "      <td>ONE_YEAR_FREE</td>\n",
       "      <td>non_luxury_type</td>\n",
       "      <td>910.0</td>\n",
       "      <td>heat_pump</td>\n",
       "      <td>NaN</td>\n",
       "      <td>Fliesen und Parkett. Sichtbarer Dachstuhl.</td>\n",
       "      <td>geothermal</td>\n",
       "      <td>2016.0</td>\n",
       "      <td>9.0</td>\n",
       "      <td>mint_condition</td>\n",
       "      <td>0</td>\n",
       "      <td>0</td>\n",
       "      <td>1</td>\n",
       "      <td>0</td>\n",
       "      <td>0</td>\n",
       "    </tr>\n",
       "    <tr>\n",
       "      <th>268846</th>\n",
       "      <td>Hessen</td>\n",
       "      <td>Viernheim</td>\n",
       "      <td>Bergstraße_Kreis</td>\n",
       "      <td>False</td>\n",
       "      <td>3.5</td>\n",
       "      <td>68519</td>\n",
       "      <td>False</td>\n",
       "      <td>no_information</td>\n",
       "      <td>115.00</td>\n",
       "      <td>930.0</td>\n",
       "      <td>False</td>\n",
       "      <td>True</td>\n",
       "      <td>False</td>\n",
       "      <td>True</td>\n",
       "      <td>220.00</td>\n",
       "      <td>Hier wird eine Wohnung im 2 Familienhaus angeb...</td>\n",
       "      <td>NaN</td>\n",
       "      <td>non_luxury_type</td>\n",
       "      <td>1150.0</td>\n",
       "      <td>gas_heating</td>\n",
       "      <td>1.0</td>\n",
       "      <td>Parkett, Kamin, Badewanne&amp;Dusche\\nGroßer Balko...</td>\n",
       "      <td>gas</td>\n",
       "      <td>1983.0</td>\n",
       "      <td>4.0</td>\n",
       "      <td>well_kept</td>\n",
       "      <td>0</td>\n",
       "      <td>0</td>\n",
       "      <td>1</td>\n",
       "      <td>0</td>\n",
       "      <td>0</td>\n",
       "    </tr>\n",
       "    <tr>\n",
       "      <th>268847</th>\n",
       "      <td>Hessen</td>\n",
       "      <td>Limburg_an_der_Lahn</td>\n",
       "      <td>Limburg_Weilburg_Kreis</td>\n",
       "      <td>True</td>\n",
       "      <td>4.0</td>\n",
       "      <td>65552</td>\n",
       "      <td>False</td>\n",
       "      <td>Emsbachstrasse</td>\n",
       "      <td>95.00</td>\n",
       "      <td>650.0</td>\n",
       "      <td>True</td>\n",
       "      <td>False</td>\n",
       "      <td>False</td>\n",
       "      <td>True</td>\n",
       "      <td>220.00</td>\n",
       "      <td>gemütliche 4-Zimmer-Wohnung im Obergeschoss ei...</td>\n",
       "      <td>ONE_YEAR_FREE</td>\n",
       "      <td>non_luxury_type</td>\n",
       "      <td>930.0</td>\n",
       "      <td>central_heating</td>\n",
       "      <td>1.0</td>\n",
       "      <td>Böden: Wohn-/Schlafbereich = Laminat, Küche + ...</td>\n",
       "      <td>gas</td>\n",
       "      <td>1965.0</td>\n",
       "      <td>2.0</td>\n",
       "      <td>well_kept</td>\n",
       "      <td>0</td>\n",
       "      <td>0</td>\n",
       "      <td>1</td>\n",
       "      <td>0</td>\n",
       "      <td>0</td>\n",
       "    </tr>\n",
       "    <tr>\n",
       "      <th>268848</th>\n",
       "      <td>Nordrhein_Westfalen</td>\n",
       "      <td>Dellbrück</td>\n",
       "      <td>Köln</td>\n",
       "      <td>False</td>\n",
       "      <td>2.0</td>\n",
       "      <td>51069</td>\n",
       "      <td>True</td>\n",
       "      <td>Idastra&amp;szlig;e</td>\n",
       "      <td>70.00</td>\n",
       "      <td>840.0</td>\n",
       "      <td>True</td>\n",
       "      <td>False</td>\n",
       "      <td>True</td>\n",
       "      <td>True</td>\n",
       "      <td>175.00</td>\n",
       "      <td>Neubau Erstbezug, gehobener Standard, alle Ein...</td>\n",
       "      <td>NaN</td>\n",
       "      <td>non_luxury_type</td>\n",
       "      <td>1015.0</td>\n",
       "      <td>heat_pump</td>\n",
       "      <td>NaN</td>\n",
       "      <td>Wände:\\nMaler­vlies, weiß gestrichen alter­nat...</td>\n",
       "      <td>gas</td>\n",
       "      <td>2019.0</td>\n",
       "      <td>9.0</td>\n",
       "      <td>first_time_use</td>\n",
       "      <td>0</td>\n",
       "      <td>0</td>\n",
       "      <td>1</td>\n",
       "      <td>0</td>\n",
       "      <td>0</td>\n",
       "    </tr>\n",
       "    <tr>\n",
       "      <th>268849</th>\n",
       "      <td>Hessen</td>\n",
       "      <td>Sossenheim</td>\n",
       "      <td>Frankfurt_am_Main</td>\n",
       "      <td>False</td>\n",
       "      <td>3.0</td>\n",
       "      <td>65936</td>\n",
       "      <td>True</td>\n",
       "      <td>Robert-Di&amp;szlig;mann-Str.</td>\n",
       "      <td>77.00</td>\n",
       "      <td>935.0</td>\n",
       "      <td>True</td>\n",
       "      <td>True</td>\n",
       "      <td>False</td>\n",
       "      <td>True</td>\n",
       "      <td>315.00</td>\n",
       "      <td>Schöne, helle, gut geschnittene und teilmöblie...</td>\n",
       "      <td>NaN</td>\n",
       "      <td>non_luxury_type</td>\n",
       "      <td>NaN</td>\n",
       "      <td>central_heating</td>\n",
       "      <td>NaN</td>\n",
       "      <td>Balkon, Keller, Fahrstuhl, Vollbad, Einbauküch...</td>\n",
       "      <td>district_heating</td>\n",
       "      <td>1972.0</td>\n",
       "      <td>3.0</td>\n",
       "      <td>modernized</td>\n",
       "      <td>0</td>\n",
       "      <td>0</td>\n",
       "      <td>1</td>\n",
       "      <td>0</td>\n",
       "      <td>0</td>\n",
       "    </tr>\n",
       "  </tbody>\n",
       "</table>\n",
       "<p>267959 rows × 31 columns</p>\n",
       "</div>"
      ],
      "text/plain": [
       "                     regio1                      regio3  \\\n",
       "0       Nordrhein_Westfalen                     Schüren   \n",
       "1           Rheinland_Pfalz              Böhl_Iggelheim   \n",
       "2                   Sachsen  Äußere_Neustadt_Antonstadt   \n",
       "3                   Sachsen                    Freiberg   \n",
       "4                    Bremen           Neu_Schwachhausen   \n",
       "...                     ...                         ...   \n",
       "268845               Bayern                    Eberfing   \n",
       "268846               Hessen                   Viernheim   \n",
       "268847               Hessen         Limburg_an_der_Lahn   \n",
       "268848  Nordrhein_Westfalen                   Dellbrück   \n",
       "268849               Hessen                  Sossenheim   \n",
       "\n",
       "                         regio2  garden  noRooms  geo_plz   lift  \\\n",
       "0                      Dortmund    True      4.0    44269  False   \n",
       "1             Rhein_Pfalz_Kreis   False      3.0    67459  False   \n",
       "2                       Dresden   False      3.0     1097   True   \n",
       "3           Mittelsachsen_Kreis   False      3.0     9599  False   \n",
       "4                        Bremen   False      3.0    28213  False   \n",
       "...                         ...     ...      ...      ...    ...   \n",
       "268845  Weilheim_Schongau_Kreis   False      3.0    82390  False   \n",
       "268846         Bergstraße_Kreis   False      3.5    68519  False   \n",
       "268847   Limburg_Weilburg_Kreis    True      4.0    65552  False   \n",
       "268848                     Köln   False      2.0    51069   True   \n",
       "268849        Frankfurt_am_Main   False      3.0    65936   True   \n",
       "\n",
       "                             street  livingSpace  baseRent  cellar  \\\n",
       "0        Sch&uuml;ruferstra&szlig;e        86.00     595.0    True   \n",
       "1                    no_information        89.00     800.0   False   \n",
       "2                         Turnerweg        83.80     965.0    True   \n",
       "3       Gl&uuml;ck-Auf-Stra&szlig;e        58.15     343.0   False   \n",
       "4       Hermann-Henrich-Meier-Allee        84.97     765.0   False   \n",
       "...                             ...          ...       ...     ...   \n",
       "268845               no_information        90.00     820.0    True   \n",
       "268846               no_information       115.00     930.0   False   \n",
       "268847               Emsbachstrasse        95.00     650.0    True   \n",
       "268848              Idastra&szlig;e        70.00     840.0    True   \n",
       "268849    Robert-Di&szlig;mann-Str.        77.00     935.0    True   \n",
       "\n",
       "        hasKitchen  newlyConst  balcony  serviceCharge  \\\n",
       "0            False       False    False         245.00   \n",
       "1            False       False     True         134.00   \n",
       "2            False        True     True         255.00   \n",
       "3            False       False     True          58.15   \n",
       "4            False       False     True         138.00   \n",
       "...            ...         ...      ...            ...   \n",
       "268845       False       False     True          90.00   \n",
       "268846        True       False     True         220.00   \n",
       "268847       False       False     True         220.00   \n",
       "268848       False        True     True         175.00   \n",
       "268849        True       False     True         315.00   \n",
       "\n",
       "                                              description telekomTvOffer  \\\n",
       "0       Die ebenerdig zu erreichende Erdgeschosswohnun...  ONE_YEAR_FREE   \n",
       "1       Alles neu macht der Mai – so kann es auch für ...  ONE_YEAR_FREE   \n",
       "2       Der Neubau entsteht im Herzen der Dresdner Neu...  ONE_YEAR_FREE   \n",
       "3       Abseits von Lärm und Abgasen in Ihre neue Wohn...  ONE_YEAR_FREE   \n",
       "4       Es handelt sich hier um ein saniertes Mehrfami...            NaN   \n",
       "...                                                   ...            ...   \n",
       "268845  Diese schöne, neuwertige Wohnung im Dachgescho...  ONE_YEAR_FREE   \n",
       "268846  Hier wird eine Wohnung im 2 Familienhaus angeb...            NaN   \n",
       "268847  gemütliche 4-Zimmer-Wohnung im Obergeschoss ei...  ONE_YEAR_FREE   \n",
       "268848  Neubau Erstbezug, gehobener Standard, alle Ein...            NaN   \n",
       "268849  Schöne, helle, gut geschnittene und teilmöblie...            NaN   \n",
       "\n",
       "             typeOfFlat  totalRent                     heatingType  floor  \\\n",
       "0       non_luxury_type      840.0                 central_heating    1.0   \n",
       "1       non_luxury_type        NaN  self_contained_central_heating    NaN   \n",
       "2       non_luxury_type     1300.0                   floor_heating    3.0   \n",
       "3       non_luxury_type        NaN                district_heating    3.0   \n",
       "4       non_luxury_type      903.0  self_contained_central_heating    1.0   \n",
       "...                 ...        ...                             ...    ...   \n",
       "268845  non_luxury_type      910.0                       heat_pump    NaN   \n",
       "268846  non_luxury_type     1150.0                     gas_heating    1.0   \n",
       "268847  non_luxury_type      930.0                 central_heating    1.0   \n",
       "268848  non_luxury_type     1015.0                       heat_pump    NaN   \n",
       "268849  non_luxury_type        NaN                 central_heating    NaN   \n",
       "\n",
       "                                               facilities       firingTypes  \\\n",
       "0       Die Wohnung ist mit Laminat ausgelegt. Das Bad...               oil   \n",
       "1                                                     NaN               gas   \n",
       "2       * 9 m² Balkon\\n* Bad mit bodengleicher Dusche,...               NaN   \n",
       "3                                                     NaN  district_heating   \n",
       "4       Diese Wohnung wurde neu saniert und ist wie fo...               gas   \n",
       "...                                                   ...               ...   \n",
       "268845         Fliesen und Parkett. Sichtbarer Dachstuhl.        geothermal   \n",
       "268846  Parkett, Kamin, Badewanne&Dusche\\nGroßer Balko...               gas   \n",
       "268847  Böden: Wohn-/Schlafbereich = Laminat, Küche + ...               gas   \n",
       "268848  Wände:\\nMaler­vlies, weiß gestrichen alter­nat...               gas   \n",
       "268849  Balkon, Keller, Fahrstuhl, Vollbad, Einbauküch...  district_heating   \n",
       "\n",
       "        yearConstructed  yearConstructedRange       condition  \\\n",
       "0                1965.0                   2.0       well_kept   \n",
       "1                1871.0                   1.0     refurbished   \n",
       "2                2019.0                   9.0  first_time_use   \n",
       "3                1964.0                   2.0             NaN   \n",
       "4                1950.0                   1.0     refurbished   \n",
       "...                 ...                   ...             ...   \n",
       "268845           2016.0                   9.0  mint_condition   \n",
       "268846           1983.0                   4.0       well_kept   \n",
       "268847           1965.0                   2.0       well_kept   \n",
       "268848           2019.0                   9.0  first_time_use   \n",
       "268849           1972.0                   3.0      modernized   \n",
       "\n",
       "        typeOfFlat_loft  typeOfFlat_maisonette  typeOfFlat_non_luxury_type  \\\n",
       "0                     0                      0                           1   \n",
       "1                     0                      0                           1   \n",
       "2                     0                      0                           1   \n",
       "3                     0                      0                           1   \n",
       "4                     0                      0                           1   \n",
       "...                 ...                    ...                         ...   \n",
       "268845                0                      0                           1   \n",
       "268846                0                      0                           1   \n",
       "268847                0                      0                           1   \n",
       "268848                0                      0                           1   \n",
       "268849                0                      0                           1   \n",
       "\n",
       "        typeOfFlat_penthouse  typeOfFlat_terraced_flat  \n",
       "0                          0                         0  \n",
       "1                          0                         0  \n",
       "2                          0                         0  \n",
       "3                          0                         0  \n",
       "4                          0                         0  \n",
       "...                      ...                       ...  \n",
       "268845                     0                         0  \n",
       "268846                     0                         0  \n",
       "268847                     0                         0  \n",
       "268848                     0                         0  \n",
       "268849                     0                         0  \n",
       "\n",
       "[267959 rows x 31 columns]"
      ]
     },
     "execution_count": 28,
     "metadata": {},
     "output_type": "execute_result"
    }
   ],
   "source": [
    "rent_data = pd.concat([rent_data, df_typeOfFlat], axis=1)\n",
    "rent_data"
   ]
  },
  {
   "cell_type": "markdown",
   "id": "752ceb71",
   "metadata": {},
   "source": [
    "### 3.4 Feature condition"
   ]
  },
  {
   "cell_type": "code",
   "execution_count": 29,
   "id": "01d1d953",
   "metadata": {
    "scrolled": true
   },
   "outputs": [
    {
     "data": {
      "text/plain": [
       "well_kept                             66393\n",
       "refurbished                           26887\n",
       "fully_renovated                       26296\n",
       "mint_condition                        21866\n",
       "first_time_use                        21795\n",
       "modernized                            17185\n",
       "first_time_use_after_refurbishment    15605\n",
       "negotiable                             2232\n",
       "need_of_renovation                     1370\n",
       "ripe_for_demolition                       4\n",
       "Name: condition, dtype: int64"
      ]
     },
     "execution_count": 29,
     "metadata": {},
     "output_type": "execute_result"
    }
   ],
   "source": [
    "rent_data['condition'].value_counts()"
   ]
  },
  {
   "cell_type": "code",
   "execution_count": 30,
   "id": "e70e3cf4",
   "metadata": {},
   "outputs": [
    {
     "data": {
      "text/plain": [
       "1949.3074717636837"
      ]
     },
     "execution_count": 30,
     "metadata": {},
     "output_type": "execute_result"
    }
   ],
   "source": [
    "filtered_apartments = rent_data[rent_data['condition'].isin(['first_time_use_after_refurbishment'])]\n",
    "average_year_constructed = filtered_apartments['yearConstructed'].mean()\n",
    "average_year_constructed"
   ]
  },
  {
   "cell_type": "markdown",
   "id": "b287a812",
   "metadata": {},
   "source": [
    "Removing **ripe for demolition**  from model (only 1 instance)"
   ]
  },
  {
   "cell_type": "code",
   "execution_count": 31,
   "id": "d715a3bb",
   "metadata": {},
   "outputs": [],
   "source": [
    "rent_data = rent_data.loc[rent_data['condition'] != 'ripe_for_demolition']"
   ]
  },
  {
   "cell_type": "markdown",
   "id": "efb32a68",
   "metadata": {},
   "source": [
    "The average totalRent based on condition:"
   ]
  },
  {
   "cell_type": "code",
   "execution_count": 32,
   "id": "750587d6",
   "metadata": {},
   "outputs": [
    {
     "data": {
      "text/html": [
       "<div>\n",
       "<style scoped>\n",
       "    .dataframe tbody tr th:only-of-type {\n",
       "        vertical-align: middle;\n",
       "    }\n",
       "\n",
       "    .dataframe tbody tr th {\n",
       "        vertical-align: top;\n",
       "    }\n",
       "\n",
       "    .dataframe thead th {\n",
       "        text-align: right;\n",
       "    }\n",
       "</style>\n",
       "<table border=\"1\" class=\"dataframe\">\n",
       "  <thead>\n",
       "    <tr style=\"text-align: right;\">\n",
       "      <th></th>\n",
       "      <th>condition</th>\n",
       "      <th>totalRent</th>\n",
       "    </tr>\n",
       "  </thead>\n",
       "  <tbody>\n",
       "    <tr>\n",
       "      <th>0</th>\n",
       "      <td>first_time_use</td>\n",
       "      <td>1200.00</td>\n",
       "    </tr>\n",
       "    <tr>\n",
       "      <th>1</th>\n",
       "      <td>mint_condition</td>\n",
       "      <td>1000.00</td>\n",
       "    </tr>\n",
       "    <tr>\n",
       "      <th>2</th>\n",
       "      <td>first_time_use_after_refurbishment</td>\n",
       "      <td>804.00</td>\n",
       "    </tr>\n",
       "    <tr>\n",
       "      <th>3</th>\n",
       "      <td>modernized</td>\n",
       "      <td>629.23</td>\n",
       "    </tr>\n",
       "    <tr>\n",
       "      <th>4</th>\n",
       "      <td>well_kept</td>\n",
       "      <td>600.00</td>\n",
       "    </tr>\n",
       "    <tr>\n",
       "      <th>5</th>\n",
       "      <td>fully_renovated</td>\n",
       "      <td>590.00</td>\n",
       "    </tr>\n",
       "    <tr>\n",
       "      <th>6</th>\n",
       "      <td>need_of_renovation</td>\n",
       "      <td>541.00</td>\n",
       "    </tr>\n",
       "    <tr>\n",
       "      <th>7</th>\n",
       "      <td>negotiable</td>\n",
       "      <td>527.00</td>\n",
       "    </tr>\n",
       "    <tr>\n",
       "      <th>8</th>\n",
       "      <td>refurbished</td>\n",
       "      <td>510.00</td>\n",
       "    </tr>\n",
       "  </tbody>\n",
       "</table>\n",
       "</div>"
      ],
      "text/plain": [
       "                            condition  totalRent\n",
       "0                      first_time_use    1200.00\n",
       "1                      mint_condition    1000.00\n",
       "2  first_time_use_after_refurbishment     804.00\n",
       "3                          modernized     629.23\n",
       "4                           well_kept     600.00\n",
       "5                     fully_renovated     590.00\n",
       "6                  need_of_renovation     541.00\n",
       "7                          negotiable     527.00\n",
       "8                         refurbished     510.00"
      ]
     },
     "execution_count": 32,
     "metadata": {},
     "output_type": "execute_result"
    }
   ],
   "source": [
    "rent_data.groupby(['condition'])['totalRent'].agg('median').sort_values(ascending=False).reset_index().round(2)"
   ]
  },
  {
   "cell_type": "markdown",
   "id": "998a1a5b",
   "metadata": {},
   "source": [
    "### 3.5 Feature firingType"
   ]
  },
  {
   "cell_type": "markdown",
   "id": "37fc897e",
   "metadata": {},
   "source": [
    "- if I will use I need to cluster and reduce the categories "
   ]
  },
  {
   "cell_type": "markdown",
   "id": "11afa194",
   "metadata": {},
   "source": [
    "Maybe we can combine in three different categories: \n",
    "A -> more clean energy\n",
    "B ->\n",
    "C -> "
   ]
  },
  {
   "cell_type": "code",
   "execution_count": 33,
   "id": "22a26109",
   "metadata": {
    "scrolled": true
   },
   "outputs": [
    {
     "data": {
      "text/plain": [
       "array(['oil', 'gas', nan, 'district_heating', 'gas:electricity',\n",
       "       'electricity', 'pellet_heating', 'natural_gas_light',\n",
       "       'combined_heat_and_power_fossil_fuels',\n",
       "       'district_heating:local_heating', 'steam_district_heating',\n",
       "       'natural_gas_heavy', 'gas:district_heating', 'solar_heating:gas',\n",
       "       'environmental_thermal_energy', 'local_heating',\n",
       "       'gas:natural_gas_light', 'geothermal',\n",
       "       'combined_heat_and_power_regenerative_energy', 'heat_supply',\n",
       "       'oil:electricity', 'solar_heating', 'geothermal:solar_heating',\n",
       "       'district_heating:electricity', 'liquid_gas', 'wood',\n",
       "       'hydro_energy', 'combined_heat_and_power_renewable_energy', 'coal',\n",
       "       'gas:steam_district_heating', 'bio_energy',\n",
       "       'gas:environmental_thermal_energy', 'wood_chips', 'gas:oil',\n",
       "       'solar_heating:wood', 'geothermal:gas',\n",
       "       'solar_heating:gas:electricity',\n",
       "       'gas:natural_gas_light:heat_supply', 'pellet_heating:gas',\n",
       "       'solar_heating:gas:bio_energy', 'oil:wood',\n",
       "       'electricity:combined_heat_and_power_fossil_fuels',\n",
       "       'gas:natural_gas_heavy', 'solar_heating:oil',\n",
       "       'combined_heat_and_power_bio_energy', 'pellet_heating:wood',\n",
       "       'district_heating:combined_heat_and_power_fossil_fuels',\n",
       "       'electricity:natural_gas_heavy',\n",
       "       'district_heating:electricity:local_heating',\n",
       "       'electricity:natural_gas_light', 'geothermal:district_heating',\n",
       "       'electricity:bio_energy', 'district_heating:coal',\n",
       "       'oil:district_heating', 'solar_heating:electricity',\n",
       "       'pellet_heating:electricity', 'solar_heating:natural_gas_light',\n",
       "       'solar_heating:oil:wood', 'solar_heating:district_heating',\n",
       "       'district_heating:combined_heat_and_power_renewable_energy',\n",
       "       'district_heating:electricity:local_heating:combined_heat_and_power_fossil_fuels',\n",
       "       'solar_heating:pellet_heating', 'district_heating:heat_supply',\n",
       "       'electricity:local_heating', 'natural_gas_light:heat_supply',\n",
       "       'solar_heating:natural_gas_light:environmental_thermal_energy',\n",
       "       'oil:environmental_thermal_energy',\n",
       "       'electricity:environmental_thermal_energy', 'gas:bio_energy',\n",
       "       'oil:natural_gas_light', 'gas:local_heating', 'pellet_heating:oil',\n",
       "       'natural_gas_light:natural_gas_heavy',\n",
       "       'gas:combined_heat_and_power_fossil_fuels',\n",
       "       'district_heating:bio_energy',\n",
       "       'district_heating:local_heating:combined_heat_and_power_fossil_fuels',\n",
       "       'solar_heating:gas:district_heating',\n",
       "       'solar_heating:wood:environmental_thermal_energy', 'gas:wood',\n",
       "       'solar_heating:gas:wood', 'wind_energy', 'geothermal:electricity',\n",
       "       'district_heating:electricity:combined_heat_and_power_fossil_fuels',\n",
       "       'gas:district_heating:local_heating', 'coal_coke',\n",
       "       'natural_gas_light:liquid_gas', 'electricity:wood',\n",
       "       'local_heating:combined_heat_and_power_fossil_fuels',\n",
       "       'geothermal:bio_energy',\n",
       "       'solar_heating:gas:electricity:coal:coal_coke:local_heating',\n",
       "       'pellet_heating:district_heating', 'solar_heating:local_heating',\n",
       "       'district_heating:combined_heat_and_power_regenerative_energy',\n",
       "       'gas:electricity:environmental_thermal_energy',\n",
       "       'liquid_gas:steam_district_heating:wood:wood_chips:coal_coke:local_heating:heat_supply:bio_energy:wind_energy:hydro_energy:environmental_thermal_energy:combined_heat_and_power_fossil_fuels',\n",
       "       'natural_gas_light:wood',\n",
       "       'district_heating:local_heating:combined_heat_and_power_renewable_energy',\n",
       "       'pellet_heating:natural_gas_light', 'solar_heating:heat_supply',\n",
       "       'geothermal:solar_heating:pellet_heating:gas', 'gas:heat_supply',\n",
       "       'gas:oil:electricity',\n",
       "       'district_heating:combined_heat_and_power_fossil_fuels:combined_heat_and_power_regenerative_energy',\n",
       "       'pellet_heating:wood:wood_chips', 'solar_heating:liquid_gas',\n",
       "       'geothermal:solar_heating:pellet_heating',\n",
       "       'geothermal:combined_heat_and_power_fossil_fuels',\n",
       "       'district_heating:natural_gas_heavy',\n",
       "       'electricity:coal:natural_gas_light:natural_gas_heavy:liquid_gas:steam_district_heating:wood:wood_chips:coal_coke:local_heating:heat_supply:bio_energy:wind_energy',\n",
       "       'district_heating:wood', 'solar_heating:gas:natural_gas_light',\n",
       "       'district_heating:electricity:natural_gas_heavy',\n",
       "       'natural_gas_heavy:local_heating', 'solar_heating:gas:oil:coal',\n",
       "       'district_heating:wood:bio_energy',\n",
       "       'solar_heating:environmental_thermal_energy',\n",
       "       'geothermal:solar_heating:pellet_heating:district_heating',\n",
       "       'solar_heating:wood_chips', 'district_heating:natural_gas_light',\n",
       "       'gas:oil:district_heating',\n",
       "       'solar_heating:pellet_heating:bio_energy', 'geothermal:wood',\n",
       "       'gas:district_heating:electricity',\n",
       "       'solar_heating:oil:electricity',\n",
       "       'solar_heating:pellet_heating:gas', 'gas:liquid_gas',\n",
       "       'gas:wood_chips',\n",
       "       'gas:oil:district_heating:electricity:coal:natural_gas_light',\n",
       "       'geothermal:solar_heating:gas', 'electricity:wood_chips',\n",
       "       'electricity:coal', 'solar_heating:bio_energy',\n",
       "       'district_heating:hydro_energy'], dtype=object)"
      ]
     },
     "execution_count": 33,
     "metadata": {},
     "output_type": "execute_result"
    }
   ],
   "source": [
    "rent_data['firingTypes'].unique()"
   ]
  },
  {
   "cell_type": "code",
   "execution_count": 35,
   "id": "f57c033c",
   "metadata": {},
   "outputs": [
    {
     "data": {
      "text/html": [
       "<div>\n",
       "<style scoped>\n",
       "    .dataframe tbody tr th:only-of-type {\n",
       "        vertical-align: middle;\n",
       "    }\n",
       "\n",
       "    .dataframe tbody tr th {\n",
       "        vertical-align: top;\n",
       "    }\n",
       "\n",
       "    .dataframe thead th {\n",
       "        text-align: right;\n",
       "    }\n",
       "</style>\n",
       "<table border=\"1\" class=\"dataframe\">\n",
       "  <thead>\n",
       "    <tr style=\"text-align: right;\">\n",
       "      <th></th>\n",
       "      <th>firingTypes</th>\n",
       "      <th>totalRent</th>\n",
       "    </tr>\n",
       "  </thead>\n",
       "  <tbody>\n",
       "    <tr>\n",
       "      <th>0</th>\n",
       "      <td>hydro_energy</td>\n",
       "      <td>1288.00</td>\n",
       "    </tr>\n",
       "    <tr>\n",
       "      <th>1</th>\n",
       "      <td>combined_heat_and_power_regenerative_energy</td>\n",
       "      <td>1221.32</td>\n",
       "    </tr>\n",
       "    <tr>\n",
       "      <th>2</th>\n",
       "      <td>environmental_thermal_energy</td>\n",
       "      <td>1140.00</td>\n",
       "    </tr>\n",
       "    <tr>\n",
       "      <th>3</th>\n",
       "      <td>combined_heat_and_power_renewable_energy</td>\n",
       "      <td>1130.00</td>\n",
       "    </tr>\n",
       "    <tr>\n",
       "      <th>4</th>\n",
       "      <td>wind_energy</td>\n",
       "      <td>1127.50</td>\n",
       "    </tr>\n",
       "    <tr>\n",
       "      <th>5</th>\n",
       "      <td>geothermal</td>\n",
       "      <td>1100.00</td>\n",
       "    </tr>\n",
       "    <tr>\n",
       "      <th>6</th>\n",
       "      <td>bio_energy</td>\n",
       "      <td>1040.00</td>\n",
       "    </tr>\n",
       "    <tr>\n",
       "      <th>7</th>\n",
       "      <td>solar_heating</td>\n",
       "      <td>1038.75</td>\n",
       "    </tr>\n",
       "    <tr>\n",
       "      <th>8</th>\n",
       "      <td>combined_heat_and_power_fossil_fuels</td>\n",
       "      <td>1016.86</td>\n",
       "    </tr>\n",
       "    <tr>\n",
       "      <th>9</th>\n",
       "      <td>pellet_heating</td>\n",
       "      <td>1015.00</td>\n",
       "    </tr>\n",
       "    <tr>\n",
       "      <th>10</th>\n",
       "      <td>wood_chips</td>\n",
       "      <td>980.00</td>\n",
       "    </tr>\n",
       "    <tr>\n",
       "      <th>11</th>\n",
       "      <td>heat_supply</td>\n",
       "      <td>920.00</td>\n",
       "    </tr>\n",
       "    <tr>\n",
       "      <th>12</th>\n",
       "      <td>combined_heat_and_power_bio_energy</td>\n",
       "      <td>862.50</td>\n",
       "    </tr>\n",
       "    <tr>\n",
       "      <th>13</th>\n",
       "      <td>local_heating</td>\n",
       "      <td>815.00</td>\n",
       "    </tr>\n",
       "    <tr>\n",
       "      <th>14</th>\n",
       "      <td>wood</td>\n",
       "      <td>750.00</td>\n",
       "    </tr>\n",
       "    <tr>\n",
       "      <th>15</th>\n",
       "      <td>coal_coke</td>\n",
       "      <td>740.00</td>\n",
       "    </tr>\n",
       "    <tr>\n",
       "      <th>16</th>\n",
       "      <td>oil</td>\n",
       "      <td>730.00</td>\n",
       "    </tr>\n",
       "    <tr>\n",
       "      <th>17</th>\n",
       "      <td>electricity</td>\n",
       "      <td>650.00</td>\n",
       "    </tr>\n",
       "    <tr>\n",
       "      <th>18</th>\n",
       "      <td>gas</td>\n",
       "      <td>637.00</td>\n",
       "    </tr>\n",
       "    <tr>\n",
       "      <th>19</th>\n",
       "      <td>natural_gas_light</td>\n",
       "      <td>600.00</td>\n",
       "    </tr>\n",
       "    <tr>\n",
       "      <th>20</th>\n",
       "      <td>district_heating</td>\n",
       "      <td>586.00</td>\n",
       "    </tr>\n",
       "    <tr>\n",
       "      <th>21</th>\n",
       "      <td>liquid_gas</td>\n",
       "      <td>570.00</td>\n",
       "    </tr>\n",
       "    <tr>\n",
       "      <th>22</th>\n",
       "      <td>natural_gas_heavy</td>\n",
       "      <td>542.00</td>\n",
       "    </tr>\n",
       "    <tr>\n",
       "      <th>23</th>\n",
       "      <td>steam_district_heating</td>\n",
       "      <td>534.00</td>\n",
       "    </tr>\n",
       "    <tr>\n",
       "      <th>24</th>\n",
       "      <td>coal</td>\n",
       "      <td>350.00</td>\n",
       "    </tr>\n",
       "  </tbody>\n",
       "</table>\n",
       "</div>"
      ],
      "text/plain": [
       "                                    firingTypes  totalRent\n",
       "0                                  hydro_energy    1288.00\n",
       "1   combined_heat_and_power_regenerative_energy    1221.32\n",
       "2                  environmental_thermal_energy    1140.00\n",
       "3      combined_heat_and_power_renewable_energy    1130.00\n",
       "4                                   wind_energy    1127.50\n",
       "5                                    geothermal    1100.00\n",
       "6                                    bio_energy    1040.00\n",
       "7                                 solar_heating    1038.75\n",
       "8          combined_heat_and_power_fossil_fuels    1016.86\n",
       "9                                pellet_heating    1015.00\n",
       "10                                   wood_chips     980.00\n",
       "11                                  heat_supply     920.00\n",
       "12           combined_heat_and_power_bio_energy     862.50\n",
       "13                                local_heating     815.00\n",
       "14                                         wood     750.00\n",
       "15                                    coal_coke     740.00\n",
       "16                                          oil     730.00\n",
       "17                                  electricity     650.00\n",
       "18                                          gas     637.00\n",
       "19                            natural_gas_light     600.00\n",
       "20                             district_heating     586.00\n",
       "21                                   liquid_gas     570.00\n",
       "22                            natural_gas_heavy     542.00\n",
       "23                       steam_district_heating     534.00\n",
       "24                                         coal     350.00"
      ]
     },
     "execution_count": 35,
     "metadata": {},
     "output_type": "execute_result"
    }
   ],
   "source": [
    "rent_data[~rent_data['firingTypes'].str.contains(':', na=False)].groupby(['firingTypes'])['totalRent'].agg('median').sort_values(ascending=False).reset_index().round(2)"
   ]
  },
  {
   "cell_type": "markdown",
   "id": "5c0c0733",
   "metadata": {},
   "source": [
    "### 3.6 Exploring spatial features: state, region, city and street\n",
    "\n",
    "- Here we need to make an analysis why it is hard to use this features.\n",
    "- Why I decided to drop it\n",
    "- What would be the benefits from these features."
   ]
  },
  {
   "cell_type": "markdown",
   "id": "a374cc3d",
   "metadata": {},
   "source": [
    "# SO this is what we have so far:"
   ]
  },
  {
   "cell_type": "markdown",
   "id": "6259d0f3",
   "metadata": {},
   "source": [
    "So for now for the first run of XGBoost I will remove the following categorical features:\n",
    "1. heatingType\n",
    "2. FiringType\n",
    "3. yearConstructed\n",
    "4. geo_plz\n",
    "5. telekomTvOffer\n",
    "6. 'regio1',\n",
    "7. 'regio3',\n",
    "8. 'regio2',\n",
    "9. 'street',"
   ]
  },
  {
   "cell_type": "code",
   "execution_count": 36,
   "id": "ef244e9e",
   "metadata": {},
   "outputs": [
    {
     "data": {
      "text/plain": [
       "(267955, 21)"
      ]
     },
     "execution_count": 36,
     "metadata": {},
     "output_type": "execute_result"
    }
   ],
   "source": [
    "drop_columns_categorical = [\"heatingType\", \"firingTypes\",\"yearConstructed\",\"geo_plz\",\"telekomTvOffer\",\"regio1\",\"regio3\",\"regio2\",\"street\",\"typeOfFlat\"]\n",
    "rent_data = rent_data.drop(columns=drop_columns_categorical)\n",
    "rent_data.shape"
   ]
  },
  {
   "cell_type": "code",
   "execution_count": 37,
   "id": "377a6080",
   "metadata": {
    "scrolled": true
   },
   "outputs": [
    {
     "name": "stdout",
     "output_type": "stream",
     "text": [
      "<class 'pandas.core.frame.DataFrame'>\n",
      "Int64Index: 267955 entries, 0 to 268849\n",
      "Data columns (total 21 columns):\n",
      " #   Column                      Non-Null Count   Dtype  \n",
      "---  ------                      --------------   -----  \n",
      " 0   garden                      267955 non-null  bool   \n",
      " 1   noRooms                     267955 non-null  float64\n",
      " 2   lift                        267955 non-null  bool   \n",
      " 3   livingSpace                 267955 non-null  float64\n",
      " 4   baseRent                    267955 non-null  float64\n",
      " 5   cellar                      267955 non-null  bool   \n",
      " 6   hasKitchen                  267955 non-null  bool   \n",
      " 7   newlyConst                  267955 non-null  bool   \n",
      " 8   balcony                     267955 non-null  bool   \n",
      " 9   serviceCharge               261081 non-null  float64\n",
      " 10  description                 248268 non-null  object \n",
      " 11  totalRent                   227569 non-null  float64\n",
      " 12  floor                       216876 non-null  float64\n",
      " 13  facilities                  215191 non-null  object \n",
      " 14  yearConstructedRange        211100 non-null  float64\n",
      " 15  condition                   199629 non-null  object \n",
      " 16  typeOfFlat_loft             267955 non-null  uint8  \n",
      " 17  typeOfFlat_maisonette       267955 non-null  uint8  \n",
      " 18  typeOfFlat_non_luxury_type  267955 non-null  uint8  \n",
      " 19  typeOfFlat_penthouse        267955 non-null  uint8  \n",
      " 20  typeOfFlat_terraced_flat    267955 non-null  uint8  \n",
      "dtypes: bool(6), float64(7), object(3), uint8(5)\n",
      "memory usage: 25.3+ MB\n"
     ]
    }
   ],
   "source": [
    "rent_data.info()"
   ]
  },
  {
   "cell_type": "markdown",
   "id": "0bce6bad",
   "metadata": {},
   "source": [
    "## Convert the categorical features(what is left) from object to categorical"
   ]
  },
  {
   "cell_type": "code",
   "execution_count": 38,
   "id": "9e861178",
   "metadata": {},
   "outputs": [],
   "source": [
    "cats = [\"condition\"]\n",
    "for col in cats:\n",
    "    rent_data[col] = rent_data[col].astype('category')"
   ]
  },
  {
   "cell_type": "markdown",
   "id": "3b5bddc0",
   "metadata": {},
   "source": [
    "## 4. Analyzing  NUMERICAL Columns"
   ]
  },
  {
   "cell_type": "code",
   "execution_count": 39,
   "id": "da6d2525",
   "metadata": {
    "scrolled": true
   },
   "outputs": [
    {
     "data": {
      "text/plain": [
       "['noRooms',\n",
       " 'livingSpace',\n",
       " 'baseRent',\n",
       " 'serviceCharge',\n",
       " 'totalRent',\n",
       " 'floor',\n",
       " 'yearConstructedRange']"
      ]
     },
     "execution_count": 39,
     "metadata": {},
     "output_type": "execute_result"
    }
   ],
   "source": [
    "numerical_columns = rent_data.select_dtypes(include=['int64','float64']).columns.tolist()\n",
    "numerical_columns"
   ]
  },
  {
   "cell_type": "markdown",
   "id": "6e48bd1b",
   "metadata": {},
   "source": [
    "### 4.1 Checking for outliers in all  numerical columns"
   ]
  },
  {
   "cell_type": "markdown",
   "id": "58bf22ef",
   "metadata": {},
   "source": [
    "To identify the variables that need transformation I will check the relative difference between the maximal value and the 99 percentile. If the relative difference is high, it means all the values above the 99 percentile are way higher(outliers)"
   ]
  },
  {
   "cell_type": "code",
   "execution_count": 40,
   "id": "e749b96e",
   "metadata": {},
   "outputs": [
    {
     "data": {
      "text/html": [
       "<div>\n",
       "<style scoped>\n",
       "    .dataframe tbody tr th:only-of-type {\n",
       "        vertical-align: middle;\n",
       "    }\n",
       "\n",
       "    .dataframe tbody tr th {\n",
       "        vertical-align: top;\n",
       "    }\n",
       "\n",
       "    .dataframe thead th {\n",
       "        text-align: right;\n",
       "    }\n",
       "</style>\n",
       "<table border=\"1\" class=\"dataframe\">\n",
       "  <thead>\n",
       "    <tr style=\"text-align: right;\">\n",
       "      <th></th>\n",
       "      <th>variable</th>\n",
       "      <th>relative_diff</th>\n",
       "    </tr>\n",
       "  </thead>\n",
       "  <tbody>\n",
       "    <tr>\n",
       "      <th>4</th>\n",
       "      <td>totalRent</td>\n",
       "      <td>5526.854386</td>\n",
       "    </tr>\n",
       "    <tr>\n",
       "      <th>2</th>\n",
       "      <td>baseRent</td>\n",
       "      <td>3999.999600</td>\n",
       "    </tr>\n",
       "    <tr>\n",
       "      <th>1</th>\n",
       "      <td>livingSpace</td>\n",
       "      <td>617.283333</td>\n",
       "    </tr>\n",
       "    <tr>\n",
       "      <th>3</th>\n",
       "      <td>serviceCharge</td>\n",
       "      <td>331.333333</td>\n",
       "    </tr>\n",
       "    <tr>\n",
       "      <th>0</th>\n",
       "      <td>noRooms</td>\n",
       "      <td>199.998000</td>\n",
       "    </tr>\n",
       "    <tr>\n",
       "      <th>5</th>\n",
       "      <td>floor</td>\n",
       "      <td>124.875000</td>\n",
       "    </tr>\n",
       "    <tr>\n",
       "      <th>6</th>\n",
       "      <td>yearConstructedRange</td>\n",
       "      <td>1.000000</td>\n",
       "    </tr>\n",
       "  </tbody>\n",
       "</table>\n",
       "</div>"
      ],
      "text/plain": [
       "               variable  relative_diff\n",
       "4             totalRent    5526.854386\n",
       "2              baseRent    3999.999600\n",
       "1           livingSpace     617.283333\n",
       "3         serviceCharge     331.333333\n",
       "0               noRooms     199.998000\n",
       "5                 floor     124.875000\n",
       "6  yearConstructedRange       1.000000"
      ]
     },
     "execution_count": 40,
     "metadata": {},
     "output_type": "execute_result"
    }
   ],
   "source": [
    "# find out the relative difference between the 99 percentile and the max value as a first\n",
    "# indication of which variables have outliers\n",
    "\n",
    "rel_diff_outl = []\n",
    "for i in numerical_columns:\n",
    "    percentile = np.nanpercentile(rent_data[i], 99) # get the 99 percentile\n",
    "    max_var = rent_data_dropped_cols[i].max() # get the max value of the variable\n",
    "    \n",
    "    rel_diff = max_var / percentile # get the relative difference between both values\n",
    "    rel_diff_outl.append(rel_diff) # append the value to the list\n",
    "\n",
    "# create a dataframe with the results combined\n",
    "dict_1 = dict(variable = list(numerical_columns))\n",
    "dict_2 = dict(relative_diff = rel_diff_outl)\n",
    "dict_1.update(dict_2)\n",
    "\n",
    "rel_diff_df = pd.DataFrame(data=dict_1)\n",
    "\n",
    "# show dataframe\n",
    "rel_diff_df.sort_values('relative_diff', ascending=False)"
   ]
  },
  {
   "cell_type": "code",
   "execution_count": 41,
   "id": "8dcd4ced",
   "metadata": {},
   "outputs": [],
   "source": [
    "# as described before, keep only 99.8% of the data and get rid of the outliers\n",
    "\n",
    "def get_rid_outl(df, list_num_var, percentile):\n",
    "    \"\"\"\n",
    "    INPUT: \n",
    "    df: Dataframe\n",
    "    list_num_var: List of the variables (columns) with outliers that need to be deleted\n",
    "    percentile: float between 0 and 100: Percentage of the data that will be kept \n",
    "    \n",
    "    OUTPUT:\n",
    "    DataFrame with the defined amount of data. This means a DataFrame without outliers\n",
    "    \"\"\"\n",
    "    \n",
    "    perc_dict = {}\n",
    "    for col in list_num_var: # first, calculate all the percentiles before removing any\n",
    "        # row, otherwise you will remove more rows than necessary\n",
    "        value_perc = np.nanpercentile(df[col], percentile)\n",
    "        value_perc_dict = {col: value_perc}\n",
    "        perc_dict.update(value_perc_dict)\n",
    "        \n",
    "    for var in list_num_var:    \n",
    "        df = df.loc[(df[var] <= perc_dict[var]) ^ (df[var].isnull())] # include nan values\n",
    "    \n",
    "    return df"
   ]
  },
  {
   "cell_type": "code",
   "execution_count": 42,
   "id": "5a71c906",
   "metadata": {},
   "outputs": [],
   "source": [
    "# create a dataframe without outliers for the main variables\n",
    "rent_data = get_rid_outl(rent_data, ['totalRent', 'baseRent', 'livingSpace','serviceCharge','noRooms','floor'], 99)"
   ]
  },
  {
   "cell_type": "code",
   "execution_count": 43,
   "id": "45d1ab15",
   "metadata": {},
   "outputs": [
    {
     "data": {
      "text/plain": [
       "(259857, 21)"
      ]
     },
     "execution_count": 43,
     "metadata": {},
     "output_type": "execute_result"
    }
   ],
   "source": [
    "rent_data.shape"
   ]
  },
  {
   "cell_type": "code",
   "execution_count": 44,
   "id": "87c1dfcd",
   "metadata": {
    "scrolled": false
   },
   "outputs": [
    {
     "data": {
      "image/png": "[encoded data removed]",
      "text/plain": [
       "<Figure size 1000x1500 with 3 Axes>"
      ]
     },
     "metadata": {},
     "output_type": "display_data"
    }
   ],
   "source": [
    "# get a better understanding of the variables\n",
    "plt.figure(figsize=[10,15])\n",
    "\n",
    "bin_edges = np.arange(0, rent_data.totalRent.max()+100, 100)\n",
    "\n",
    "plt.subplot(3,1,1)\n",
    "plt.hist(data=rent_data, x='totalRent', bins=bin_edges)\n",
    "plt.title('Total Rent')\n",
    "\n",
    "plt.subplot(3,1,2)\n",
    "plt.hist(data=rent_data, x='baseRent', bins=bin_edges)\n",
    "plt.title('Base Rent')\n",
    "\n",
    "plt.subplot(3,1,3)\n",
    "plt.hist(data=rent_data, x='livingSpace', bins=30)\n",
    "plt.title('LivingSpace');"
   ]
  },
  {
   "cell_type": "markdown",
   "id": "3625cd3d",
   "metadata": {},
   "source": [
    "For the two first variables we see a right skewed histogram - as expected. Both very similar, but total rent is light more to the right. We will have to investigate this further. "
   ]
  },
  {
   "cell_type": "code",
   "execution_count": 45,
   "id": "43280d4a",
   "metadata": {},
   "outputs": [
    {
     "data": {
      "text/plain": [
       "Text(0.5, 1.0, 'Floor')"
      ]
     },
     "execution_count": 45,
     "metadata": {},
     "output_type": "execute_result"
    },
    {
     "data": {
      "image/png": "[encoded data removed]",
      "text/plain": [
       "<Figure size 1000x1500 with 2 Axes>"
      ]
     },
     "metadata": {},
     "output_type": "display_data"
    }
   ],
   "source": [
    "# get a better understanding of the variables\n",
    "plt.figure(figsize=[10,15])\n",
    "\n",
    "plt.subplot(3,1,1)\n",
    "plt.hist(data=rent_data, x='noRooms', bins=5)\n",
    "plt.title('Number of Rooms')\n",
    "\n",
    "plt.subplot(3,1,2)\n",
    "plt.hist(data=rent_data, x='floor', bins=5)\n",
    "plt.title('Floor')"
   ]
  },
  {
   "cell_type": "markdown",
   "id": "0de22575",
   "metadata": {},
   "source": [
    "### 4.2  LivingSpace\n",
    "\n",
    "The livingSpace feature is a **continuous numerical feature**. Continuous numerical features are those that can take any real value within a certain range and can have an infinite number of possible values. In the case of livingSpace, it represents the size of the living space in square meters, and this can be any positive real number."
   ]
  },
  {
   "cell_type": "code",
   "execution_count": 46,
   "id": "3df818a4",
   "metadata": {},
   "outputs": [
    {
     "data": {
      "text/plain": [
       "count    259857.000000\n",
       "mean         71.087472\n",
       "std          26.921155\n",
       "min           0.000000\n",
       "25%          54.000000\n",
       "50%          66.840000\n",
       "75%          85.000000\n",
       "max         180.000000\n",
       "Name: livingSpace, dtype: float64"
      ]
     },
     "execution_count": 46,
     "metadata": {},
     "output_type": "execute_result"
    }
   ],
   "source": [
    "livingSpace_summary = rent_data['livingSpace'].describe()\n",
    "livingSpace_summary"
   ]
  },
  {
   "cell_type": "markdown",
   "id": "e694a288",
   "metadata": {},
   "source": [
    "Checking the distribution of the living space feature."
   ]
  },
  {
   "cell_type": "code",
   "execution_count": 47,
   "id": "24ac14f9",
   "metadata": {},
   "outputs": [
    {
     "name": "stderr",
     "output_type": "stream",
     "text": [
      "C:\\Users\\DELL\\AppData\\Local\\Temp\\ipykernel_31584\\909119323.py:2: UserWarning: \n",
      "\n",
      "`distplot` is a deprecated function and will be removed in seaborn v0.14.0.\n",
      "\n",
      "Please adapt your code to use either `displot` (a figure-level function with\n",
      "similar flexibility) or `histplot` (an axes-level function for histograms).\n",
      "\n",
      "For a guide to updating your code to use the new functions, please see\n",
      "https://gist.github.com/mwaskom/de44147ed2974457ad6372750bbe5751\n",
      "\n",
      "  sns.distplot(rent_data['livingSpace'],fit=norm)\n"
     ]
    },
    {
     "data": {
      "text/plain": [
       "<Axes: xlabel='livingSpace', ylabel='Density'>"
      ]
     },
     "execution_count": 47,
     "metadata": {},
     "output_type": "execute_result"
    },
    {
     "data": {
      "image/png": "[encoded data removed]",
      "text/plain": [
       "<Figure size 1000x600 with 1 Axes>"
      ]
     },
     "metadata": {},
     "output_type": "display_data"
    }
   ],
   "source": [
    "fig,ax = plt.subplots(figsize=(10,6))\n",
    "sns.distplot(rent_data['livingSpace'],fit=norm)"
   ]
  },
  {
   "cell_type": "markdown",
   "id": "20411497",
   "metadata": {},
   "source": [
    "##### How many apartments have a livingSpace equal to zero? "
   ]
  },
  {
   "cell_type": "code",
   "execution_count": 48,
   "id": "6f5cee35",
   "metadata": {},
   "outputs": [
    {
     "data": {
      "text/plain": [
       "(68, 21)"
      ]
     },
     "execution_count": 48,
     "metadata": {},
     "output_type": "execute_result"
    }
   ],
   "source": [
    "apartments_with_zero_living_space = rent_data[rent_data['livingSpace'] == 0]\n",
    "apartments_with_zero_living_space.shape"
   ]
  },
  {
   "cell_type": "markdown",
   "id": "51061f1c",
   "metadata": {},
   "source": [
    "- Since there is a strong correlation between livingSpace and number of rooms I will replace the livingSpace for those apartments with livingSpace=0 with **the average livingSpace based on the number of rooms**. "
   ]
  },
  {
   "cell_type": "code",
   "execution_count": 49,
   "id": "8c9cf7a0",
   "metadata": {},
   "outputs": [],
   "source": [
    "median_living_space = rent_data.groupby('noRooms')['livingSpace'].median()\n",
    "\n",
    "# Function to fill zero livingSpace values using the median\n",
    "def fill_zero_living_space(row):\n",
    "    if row['livingSpace'] == 0:\n",
    "        return median_living_space[row['noRooms']]\n",
    "    else:\n",
    "        return row['livingSpace']\n",
    "\n",
    "# Apply the function to fill zero values\n",
    "rent_data['livingSpace'] = rent_data.apply(fill_zero_living_space, axis=1)"
   ]
  },
  {
   "cell_type": "code",
   "execution_count": 50,
   "id": "6731d28d",
   "metadata": {},
   "outputs": [
    {
     "data": {
      "text/plain": [
       "noRooms\n",
       "1.00     34.000\n",
       "1.10     52.600\n",
       "1.20     43.000\n",
       "1.25     65.000\n",
       "1.30     35.000\n",
       "1.50     43.000\n",
       "2.00     57.380\n",
       "2.01     55.480\n",
       "2.10     59.360\n",
       "2.20     70.765\n",
       "2.30     74.850\n",
       "2.50     65.270\n",
       "2.65     50.000\n",
       "2.70     88.700\n",
       "2.90     70.000\n",
       "3.00     76.010\n",
       "3.01     56.000\n",
       "3.10     87.375\n",
       "3.40     88.860\n",
       "3.50     86.000\n",
       "4.00    103.740\n",
       "4.50    116.495\n",
       "5.00    130.000\n",
       "Name: livingSpace, dtype: float64"
      ]
     },
     "execution_count": 50,
     "metadata": {},
     "output_type": "execute_result"
    }
   ],
   "source": [
    "median_living_space"
   ]
  },
  {
   "cell_type": "markdown",
   "id": "fe9d6fe6",
   "metadata": {},
   "source": [
    "### 4.3 NoRooms\n",
    "\n",
    "The number of rooms (noRooms) is **a discrete numerical feature** because it can only take integer values representing the count of rooms.\n",
    "Some anomalies in the noRooms before removing the outliers were that we had apartments with very large number of rooms but with a small livingSPace, so we had apartment with 130 rooms and a living space 67 square feet."
   ]
  },
  {
   "cell_type": "markdown",
   "id": "4ab2901b",
   "metadata": {},
   "source": [
    "Are there missing values in this feature?"
   ]
  },
  {
   "cell_type": "code",
   "execution_count": 51,
   "id": "8aa6329f",
   "metadata": {},
   "outputs": [
    {
     "data": {
      "text/plain": [
       "0"
      ]
     },
     "execution_count": 51,
     "metadata": {},
     "output_type": "execute_result"
    }
   ],
   "source": [
    "norooms_nan_count = rent_data[\"noRooms\"].isna().sum()\n",
    "norooms_nan_count"
   ]
  },
  {
   "cell_type": "code",
   "execution_count": 52,
   "id": "86b87690",
   "metadata": {},
   "outputs": [
    {
     "data": {
      "text/plain": [
       "count    259857.000000\n",
       "mean          2.576548\n",
       "std           0.902299\n",
       "min           1.000000\n",
       "25%           2.000000\n",
       "50%           3.000000\n",
       "75%           3.000000\n",
       "max           5.000000\n",
       "Name: noRooms, dtype: float64"
      ]
     },
     "execution_count": 52,
     "metadata": {},
     "output_type": "execute_result"
    }
   ],
   "source": [
    "noRooms_summary = rent_data['noRooms'].describe()\n",
    "noRooms_summary"
   ]
  },
  {
   "cell_type": "markdown",
   "id": "7b633f75",
   "metadata": {},
   "source": [
    "### 4.4 yearConstructed"
   ]
  },
  {
   "cell_type": "markdown",
   "id": "acfa2cb7",
   "metadata": {},
   "source": [
    " **yearConstructed <-> newlyConstructed(boolean) <-> yearConstructedRange**\n",
    " \n",
    "I think I will use yearConstructedRange and fill the missing values using  newlyConstructed(boolean) and condition, "
   ]
  },
  {
   "cell_type": "markdown",
   "id": "eac546f8",
   "metadata": {},
   "source": [
    "### 4.5 Floor Number"
   ]
  },
  {
   "cell_type": "code",
   "execution_count": 53,
   "id": "28285822",
   "metadata": {},
   "outputs": [
    {
     "data": {
      "text/plain": [
       "(259857, 21)"
      ]
     },
     "execution_count": 53,
     "metadata": {},
     "output_type": "execute_result"
    }
   ],
   "source": [
    "rent_data.shape"
   ]
  },
  {
   "cell_type": "code",
   "execution_count": 54,
   "id": "cff21c55",
   "metadata": {
    "scrolled": true
   },
   "outputs": [
    {
     "name": "stdout",
     "output_type": "stream",
     "text": [
      "count    210380.000000\n",
      "mean          2.020715\n",
      "std           1.421073\n",
      "min          -1.000000\n",
      "25%           1.000000\n",
      "50%           2.000000\n",
      "75%           3.000000\n",
      "max           8.000000\n",
      "Name: floor, dtype: float64\n"
     ]
    }
   ],
   "source": [
    "floor_summary = rent_data['floor'].describe()\n",
    "print(floor_summary)"
   ]
  },
  {
   "cell_type": "code",
   "execution_count": 55,
   "id": "a9c99e15",
   "metadata": {},
   "outputs": [
    {
     "data": {
      "image/png": "[encoded data removed]",
      "text/plain": [
       "<Figure size 1000x600 with 1 Axes>"
      ]
     },
     "metadata": {},
     "output_type": "display_data"
    }
   ],
   "source": [
    "plt.figure(figsize=(10, 6))\n",
    "sns.histplot(rent_data['floor'], bins=10, kde=False)\n",
    "plt.title('Distribution of Floor Values')\n",
    "plt.xlabel('Floor')\n",
    "plt.ylabel('Frequency')\n",
    "plt.show()"
   ]
  },
  {
   "cell_type": "markdown",
   "id": "86f6c06c",
   "metadata": {},
   "source": [
    "### 4.6 ZIP Code"
   ]
  },
  {
   "cell_type": "markdown",
   "id": "0833004e",
   "metadata": {},
   "source": [
    "I will drop this"
   ]
  },
  {
   "cell_type": "markdown",
   "id": "2d1dd060",
   "metadata": {},
   "source": [
    "#### CHeck if my zip codes are valid"
   ]
  },
  {
   "cell_type": "code",
   "execution_count": null,
   "id": "eb1fa332",
   "metadata": {},
   "outputs": [],
   "source": [
    "# Assuming 'df' is your DataFrame and 'geo_plz' is the ZIP code column\n",
    "valid_format_check = rent_data_dropped_cols['geo_plz'].astype(str).str.match(r'^\\d{5}$')\n",
    "invalid_format_zip_codes = rent_data_dropped_cols.loc[~valid_format_check, 'geo_plz'].unique()\n",
    "print(f\"Invalid format ZIP codes: {invalid_format_zip_codes}\")"
   ]
  },
  {
   "cell_type": "code",
   "execution_count": null,
   "id": "d0a6d802",
   "metadata": {
    "scrolled": true
   },
   "outputs": [],
   "source": [
    "# Assuming 'df' is your DataFrame and 'geo_plz' is the ZIP code column\n",
    "valid_format_check = rent_data_dropped_cols['geo_plz'].astype(str).str.match(r'^\\d{5}$')\n",
    "invalid_format_zip_codes = rent_data_dropped_cols.loc[~valid_format_check, 'geo_plz'].unique()\n",
    "\n",
    "# Check if ZIP code contains letters or special characters\n",
    "contains_invalid_chars_check = rent_data_dropped_cols['geo_plz'].astype(str).str.contains(r'[^a-zA-Z0-9]')\n",
    "zip_codes_with_invalid_chars = rent_data_dropped_cols.loc[contains_invalid_chars_check, 'geo_plz'].unique()\n",
    "\n",
    "print(f\"Invalid format ZIP codes: {invalid_format_zip_codes}\")\n",
    "print(f\"ZIP codes containing letters or special characters: {zip_codes_with_invalid_chars}\")"
   ]
  },
  {
   "cell_type": "markdown",
   "id": "1576f332",
   "metadata": {},
   "source": [
    "It is hard to visualize the distribution of ZIP codes due to the sheer volume of categories(6388), lets focus on the top N most used ZIP codes. The key is to strike a balance between granularity and interpretability when dealing with a large number of unique values."
   ]
  },
  {
   "cell_type": "code",
   "execution_count": null,
   "id": "07c323d9",
   "metadata": {},
   "outputs": [],
   "source": [
    "unique_zip_codes = rent_no_outliers['geo_plz'].nunique()\n",
    "print(f\"Number of unique ZIP codes: {unique_zip_codes}\")"
   ]
  },
  {
   "cell_type": "code",
   "execution_count": null,
   "id": "d20071a4",
   "metadata": {},
   "outputs": [],
   "source": [
    "top_zip_codes = rent_no_outliers['geo_plz'].value_counts().head(100)\n",
    "plt.figure(figsize=(12, 6))\n",
    "top_zip_codes.plot(kind='bar', color='skyblue')\n",
    "plt.title('Top 20 ZIP Codes with Highest Frequency')\n",
    "plt.xlabel('ZIP Code')\n",
    "plt.ylabel('Count')\n",
    "plt.show()"
   ]
  },
  {
   "cell_type": "code",
   "execution_count": null,
   "id": "b24ce2de",
   "metadata": {},
   "outputs": [],
   "source": [
    "region_zip_counts = rent_no_outliers.groupby('regio1')['geo_plz'].nunique().sort_values(ascending=False)\n",
    "plt.figure(figsize=(12, 6))\n",
    "region_zip_counts.plot(kind='bar', color='skyblue')\n",
    "plt.title('Number of ZIP Codes per Region')\n",
    "plt.xlabel('Region')\n",
    "plt.ylabel('Count of ZIP Codes')\n",
    "plt.show()"
   ]
  },
  {
   "cell_type": "markdown",
   "id": "ba04ff3c",
   "metadata": {},
   "source": [
    "##  4.7 Analysing the Target \n",
    "\n",
    "Here we will look:\n",
    "1. baseRent\n",
    "3. totalRent\n",
    "5. serviceCHarge \n",
    "\n",
    "totalRent = baseRent + serviceCharge"
   ]
  },
  {
   "cell_type": "markdown",
   "id": "ddb9f20d",
   "metadata": {},
   "source": [
    "### Checking how many NaN values has total and base Rent and service Charge"
   ]
  },
  {
   "cell_type": "code",
   "execution_count": 56,
   "id": "0e1b1a59",
   "metadata": {},
   "outputs": [
    {
     "name": "stdout",
     "output_type": "stream",
     "text": [
      "38966\n",
      "0\n",
      "6551\n"
     ]
    }
   ],
   "source": [
    "print(rent_data.totalRent.isnull().sum())\n",
    "print(rent_data.baseRent.isnull().sum())\n",
    "print(rent_data.serviceCharge.isnull().sum())"
   ]
  },
  {
   "cell_type": "markdown",
   "id": "f5a1bc10",
   "metadata": {},
   "source": [
    "#### Checking number of zeros in the three variables"
   ]
  },
  {
   "cell_type": "code",
   "execution_count": 57,
   "id": "7ac8684f",
   "metadata": {},
   "outputs": [
    {
     "name": "stdout",
     "output_type": "stream",
     "text": [
      "230\n",
      "88\n",
      "3233\n"
     ]
    }
   ],
   "source": [
    "print(rent_data[rent_data.totalRent == 0]['totalRent'].shape[0])\n",
    "print(rent_data[rent_data.baseRent == 0]['totalRent'].shape[0])\n",
    "print(rent_data[rent_data.serviceCharge == 0]['totalRent'].shape[0])"
   ]
  },
  {
   "cell_type": "markdown",
   "id": "86eb7666",
   "metadata": {},
   "source": [
    "#### change all NaNs in total rent and service Charge to zeros"
   ]
  },
  {
   "cell_type": "code",
   "execution_count": 58,
   "id": "73fe23f0",
   "metadata": {},
   "outputs": [],
   "source": [
    "rent_data.totalRent.fillna(0, inplace=True)\n",
    "rent_data.serviceCharge.fillna(0, inplace=True)"
   ]
  },
  {
   "cell_type": "code",
   "execution_count": 59,
   "id": "9eba9ba6",
   "metadata": {},
   "outputs": [
    {
     "data": {
      "text/plain": [
       "32"
      ]
     },
     "execution_count": 59,
     "metadata": {},
     "output_type": "execute_result"
    }
   ],
   "source": [
    "# are there rows where the base and total rent are zero \n",
    "rent_data[(rent_data.baseRent == 0) & (rent_data.totalRent == 0)].shape[0]"
   ]
  },
  {
   "cell_type": "code",
   "execution_count": 60,
   "id": "a36cd83d",
   "metadata": {},
   "outputs": [
    {
     "name": "stdout",
     "output_type": "stream",
     "text": [
      "259857\n"
     ]
    }
   ],
   "source": [
    "# For control, print the number of rows before removing the 32 rows\n",
    "print(rent_data.shape[0])"
   ]
  },
  {
   "cell_type": "code",
   "execution_count": 61,
   "id": "b18faaf8",
   "metadata": {},
   "outputs": [
    {
     "name": "stdout",
     "output_type": "stream",
     "text": [
      "32\n"
     ]
    }
   ],
   "source": [
    "# get the index of all rows to be removed\n",
    "rows_to_delete_list = list(rent_data[(rent_data.baseRent == 0) & (rent_data.totalRent == 0)].index)\n",
    "print(len(rows_to_delete_list))"
   ]
  },
  {
   "cell_type": "code",
   "execution_count": 62,
   "id": "77cfaa8d",
   "metadata": {},
   "outputs": [],
   "source": [
    "# drop all rows\n",
    "rent_data = rent_data.drop(index=rows_to_delete_list)"
   ]
  },
  {
   "cell_type": "code",
   "execution_count": 63,
   "id": "69ebe623",
   "metadata": {},
   "outputs": [
    {
     "data": {
      "text/html": [
       "<div>\n",
       "<style scoped>\n",
       "    .dataframe tbody tr th:only-of-type {\n",
       "        vertical-align: middle;\n",
       "    }\n",
       "\n",
       "    .dataframe tbody tr th {\n",
       "        vertical-align: top;\n",
       "    }\n",
       "\n",
       "    .dataframe thead th {\n",
       "        text-align: right;\n",
       "    }\n",
       "</style>\n",
       "<table border=\"1\" class=\"dataframe\">\n",
       "  <thead>\n",
       "    <tr style=\"text-align: right;\">\n",
       "      <th></th>\n",
       "      <th>totalRent</th>\n",
       "      <th>baseRent</th>\n",
       "      <th>serviceCharge</th>\n",
       "    </tr>\n",
       "  </thead>\n",
       "  <tbody>\n",
       "    <tr>\n",
       "      <th>0</th>\n",
       "      <td>840.0</td>\n",
       "      <td>595.0</td>\n",
       "      <td>245.00</td>\n",
       "    </tr>\n",
       "    <tr>\n",
       "      <th>1</th>\n",
       "      <td>0.0</td>\n",
       "      <td>800.0</td>\n",
       "      <td>134.00</td>\n",
       "    </tr>\n",
       "    <tr>\n",
       "      <th>2</th>\n",
       "      <td>1300.0</td>\n",
       "      <td>965.0</td>\n",
       "      <td>255.00</td>\n",
       "    </tr>\n",
       "    <tr>\n",
       "      <th>3</th>\n",
       "      <td>0.0</td>\n",
       "      <td>343.0</td>\n",
       "      <td>58.15</td>\n",
       "    </tr>\n",
       "    <tr>\n",
       "      <th>4</th>\n",
       "      <td>903.0</td>\n",
       "      <td>765.0</td>\n",
       "      <td>138.00</td>\n",
       "    </tr>\n",
       "    <tr>\n",
       "      <th>...</th>\n",
       "      <td>...</td>\n",
       "      <td>...</td>\n",
       "      <td>...</td>\n",
       "    </tr>\n",
       "    <tr>\n",
       "      <th>268845</th>\n",
       "      <td>910.0</td>\n",
       "      <td>820.0</td>\n",
       "      <td>90.00</td>\n",
       "    </tr>\n",
       "    <tr>\n",
       "      <th>268846</th>\n",
       "      <td>1150.0</td>\n",
       "      <td>930.0</td>\n",
       "      <td>220.00</td>\n",
       "    </tr>\n",
       "    <tr>\n",
       "      <th>268847</th>\n",
       "      <td>930.0</td>\n",
       "      <td>650.0</td>\n",
       "      <td>220.00</td>\n",
       "    </tr>\n",
       "    <tr>\n",
       "      <th>268848</th>\n",
       "      <td>1015.0</td>\n",
       "      <td>840.0</td>\n",
       "      <td>175.00</td>\n",
       "    </tr>\n",
       "    <tr>\n",
       "      <th>268849</th>\n",
       "      <td>0.0</td>\n",
       "      <td>935.0</td>\n",
       "      <td>315.00</td>\n",
       "    </tr>\n",
       "  </tbody>\n",
       "</table>\n",
       "<p>259825 rows × 3 columns</p>\n",
       "</div>"
      ],
      "text/plain": [
       "        totalRent  baseRent  serviceCharge\n",
       "0           840.0     595.0         245.00\n",
       "1             0.0     800.0         134.00\n",
       "2          1300.0     965.0         255.00\n",
       "3             0.0     343.0          58.15\n",
       "4           903.0     765.0         138.00\n",
       "...           ...       ...            ...\n",
       "268845      910.0     820.0          90.00\n",
       "268846     1150.0     930.0         220.00\n",
       "268847      930.0     650.0         220.00\n",
       "268848     1015.0     840.0         175.00\n",
       "268849        0.0     935.0         315.00\n",
       "\n",
       "[259825 rows x 3 columns]"
      ]
     },
     "execution_count": 63,
     "metadata": {},
     "output_type": "execute_result"
    }
   ],
   "source": [
    "# take a look at the costs\n",
    "rent_data[['totalRent', 'baseRent', 'serviceCharge']]"
   ]
  },
  {
   "cell_type": "markdown",
   "id": "5acc436f",
   "metadata": {},
   "source": [
    "By looking at the data, it becomes pretty clear that the total rent comes from base rent and the service charges. This means, all zero values in the total rent column can be calculated with the other two variables"
   ]
  },
  {
   "cell_type": "code",
   "execution_count": 64,
   "id": "7a8e098e",
   "metadata": {},
   "outputs": [],
   "source": [
    "# create a function that gives me the sume of base rent and extra charges if the total\n",
    "# rent is zero\n",
    "def calculate_rent(total_rent, basic_rent, extra_charges):\n",
    "    if total_rent == 0:\n",
    "        return basic_rent + extra_charges \n",
    "    else:\n",
    "        return total_rent"
   ]
  },
  {
   "cell_type": "code",
   "execution_count": 65,
   "id": "d8972b17",
   "metadata": {},
   "outputs": [],
   "source": [
    "# apply the function to each row\n",
    "rent_data['total_rent_new'] = rent_data.apply(lambda x: calculate_rent(x['totalRent'], \n",
    "                                                               x['baseRent'],\n",
    "                                                               x['serviceCharge']),\n",
    "                                                                axis = 1)"
   ]
  },
  {
   "cell_type": "code",
   "execution_count": 66,
   "id": "12286203",
   "metadata": {},
   "outputs": [
    {
     "data": {
      "text/plain": [
       "Series([], Name: total_rent_new, dtype: float64)"
      ]
     },
     "execution_count": 66,
     "metadata": {},
     "output_type": "execute_result"
    }
   ],
   "source": [
    "# Test there are no zeros after transformation \n",
    "rent_data[rent_data.total_rent_new == 0]['total_rent_new']"
   ]
  },
  {
   "cell_type": "code",
   "execution_count": 67,
   "id": "08126f7f",
   "metadata": {},
   "outputs": [
    {
     "data": {
      "text/html": [
       "<div>\n",
       "<style scoped>\n",
       "    .dataframe tbody tr th:only-of-type {\n",
       "        vertical-align: middle;\n",
       "    }\n",
       "\n",
       "    .dataframe tbody tr th {\n",
       "        vertical-align: top;\n",
       "    }\n",
       "\n",
       "    .dataframe thead th {\n",
       "        text-align: right;\n",
       "    }\n",
       "</style>\n",
       "<table border=\"1\" class=\"dataframe\">\n",
       "  <thead>\n",
       "    <tr style=\"text-align: right;\">\n",
       "      <th></th>\n",
       "      <th>totalRent</th>\n",
       "      <th>baseRent</th>\n",
       "      <th>serviceCharge</th>\n",
       "      <th>total_rent_new</th>\n",
       "    </tr>\n",
       "  </thead>\n",
       "  <tbody>\n",
       "    <tr>\n",
       "      <th>0</th>\n",
       "      <td>840.0</td>\n",
       "      <td>595.0</td>\n",
       "      <td>245.00</td>\n",
       "      <td>840.00</td>\n",
       "    </tr>\n",
       "    <tr>\n",
       "      <th>1</th>\n",
       "      <td>0.0</td>\n",
       "      <td>800.0</td>\n",
       "      <td>134.00</td>\n",
       "      <td>934.00</td>\n",
       "    </tr>\n",
       "    <tr>\n",
       "      <th>2</th>\n",
       "      <td>1300.0</td>\n",
       "      <td>965.0</td>\n",
       "      <td>255.00</td>\n",
       "      <td>1300.00</td>\n",
       "    </tr>\n",
       "    <tr>\n",
       "      <th>3</th>\n",
       "      <td>0.0</td>\n",
       "      <td>343.0</td>\n",
       "      <td>58.15</td>\n",
       "      <td>401.15</td>\n",
       "    </tr>\n",
       "    <tr>\n",
       "      <th>4</th>\n",
       "      <td>903.0</td>\n",
       "      <td>765.0</td>\n",
       "      <td>138.00</td>\n",
       "      <td>903.00</td>\n",
       "    </tr>\n",
       "    <tr>\n",
       "      <th>...</th>\n",
       "      <td>...</td>\n",
       "      <td>...</td>\n",
       "      <td>...</td>\n",
       "      <td>...</td>\n",
       "    </tr>\n",
       "    <tr>\n",
       "      <th>268845</th>\n",
       "      <td>910.0</td>\n",
       "      <td>820.0</td>\n",
       "      <td>90.00</td>\n",
       "      <td>910.00</td>\n",
       "    </tr>\n",
       "    <tr>\n",
       "      <th>268846</th>\n",
       "      <td>1150.0</td>\n",
       "      <td>930.0</td>\n",
       "      <td>220.00</td>\n",
       "      <td>1150.00</td>\n",
       "    </tr>\n",
       "    <tr>\n",
       "      <th>268847</th>\n",
       "      <td>930.0</td>\n",
       "      <td>650.0</td>\n",
       "      <td>220.00</td>\n",
       "      <td>930.00</td>\n",
       "    </tr>\n",
       "    <tr>\n",
       "      <th>268848</th>\n",
       "      <td>1015.0</td>\n",
       "      <td>840.0</td>\n",
       "      <td>175.00</td>\n",
       "      <td>1015.00</td>\n",
       "    </tr>\n",
       "    <tr>\n",
       "      <th>268849</th>\n",
       "      <td>0.0</td>\n",
       "      <td>935.0</td>\n",
       "      <td>315.00</td>\n",
       "      <td>1250.00</td>\n",
       "    </tr>\n",
       "  </tbody>\n",
       "</table>\n",
       "<p>259825 rows × 4 columns</p>\n",
       "</div>"
      ],
      "text/plain": [
       "        totalRent  baseRent  serviceCharge  total_rent_new\n",
       "0           840.0     595.0         245.00          840.00\n",
       "1             0.0     800.0         134.00          934.00\n",
       "2          1300.0     965.0         255.00         1300.00\n",
       "3             0.0     343.0          58.15          401.15\n",
       "4           903.0     765.0         138.00          903.00\n",
       "...           ...       ...            ...             ...\n",
       "268845      910.0     820.0          90.00          910.00\n",
       "268846     1150.0     930.0         220.00         1150.00\n",
       "268847      930.0     650.0         220.00          930.00\n",
       "268848     1015.0     840.0         175.00         1015.00\n",
       "268849        0.0     935.0         315.00         1250.00\n",
       "\n",
       "[259825 rows x 4 columns]"
      ]
     },
     "execution_count": 67,
     "metadata": {},
     "output_type": "execute_result"
    }
   ],
   "source": [
    "# test the numbers make sense\n",
    "rent_data[['totalRent', 'baseRent', 'serviceCharge', 'total_rent_new']]"
   ]
  },
  {
   "cell_type": "markdown",
   "id": "9354cc7d",
   "metadata": {},
   "source": [
    "Furthermore, we need to make sure, all entries make sense. Identify rows where the base rent is higher than the total rent, which by definition cannot be true."
   ]
  },
  {
   "cell_type": "code",
   "execution_count": 68,
   "id": "04387fba",
   "metadata": {
    "scrolled": false
   },
   "outputs": [],
   "source": [
    "aaa = rent_data[rent_data['total_rent_new'] < rent_data['baseRent']][['baseRent', 'totalRent', 'serviceCharge']]"
   ]
  },
  {
   "cell_type": "code",
   "execution_count": 69,
   "id": "43f4a1a8",
   "metadata": {},
   "outputs": [
    {
     "data": {
      "text/plain": [
       "(179, 3)"
      ]
     },
     "execution_count": 69,
     "metadata": {},
     "output_type": "execute_result"
    }
   ],
   "source": [
    "aaa.shape"
   ]
  },
  {
   "cell_type": "markdown",
   "id": "2753c7cf",
   "metadata": {},
   "source": [
    "Fortunatelly there are only around 100 rows. Instead of going row by row trying to figure out what the error is, I will just drop these rows from the dataset."
   ]
  },
  {
   "cell_type": "code",
   "execution_count": 70,
   "id": "e8f6302c",
   "metadata": {},
   "outputs": [
    {
     "name": "stdout",
     "output_type": "stream",
     "text": [
      "259646\n"
     ]
    }
   ],
   "source": [
    "# get a dataset without the rows\n",
    "rent_data = rent_data[rent_data['total_rent_new'] >= rent_data['baseRent']]\n",
    "print(rent_data.shape[0])"
   ]
  },
  {
   "cell_type": "code",
   "execution_count": 71,
   "id": "b6c37948",
   "metadata": {},
   "outputs": [
    {
     "data": {
      "text/plain": [
       "0"
      ]
     },
     "execution_count": 71,
     "metadata": {},
     "output_type": "execute_result"
    }
   ],
   "source": [
    "# How many NaN values are there\n",
    "rent_data.totalRent.isnull().sum()"
   ]
  },
  {
   "cell_type": "markdown",
   "id": "5b63ba2f",
   "metadata": {},
   "source": [
    "### 4.8 Checking for nan values in the numerical features."
   ]
  },
  {
   "cell_type": "code",
   "execution_count": 72,
   "id": "18a2607e",
   "metadata": {},
   "outputs": [
    {
     "data": {
      "text/plain": [
       "['noRooms',\n",
       " 'livingSpace',\n",
       " 'baseRent',\n",
       " 'serviceCharge',\n",
       " 'totalRent',\n",
       " 'floor',\n",
       " 'yearConstructedRange',\n",
       " 'total_rent_new']"
      ]
     },
     "execution_count": 72,
     "metadata": {},
     "output_type": "execute_result"
    }
   ],
   "source": [
    "# get a list of the nummerical values in the df_clean\n",
    "list_num_vars = list(rent_data.select_dtypes(include=['float', 'int']).columns)\n",
    "list_num_vars"
   ]
  },
  {
   "cell_type": "code",
   "execution_count": 73,
   "id": "15a9051b",
   "metadata": {
    "scrolled": true
   },
   "outputs": [
    {
     "data": {
      "text/plain": [
       "noRooms                     0\n",
       "livingSpace                 0\n",
       "baseRent                    0\n",
       "serviceCharge               0\n",
       "totalRent                   0\n",
       "floor                   49428\n",
       "yearConstructedRange    55299\n",
       "total_rent_new              0\n",
       "dtype: int64"
      ]
     },
     "execution_count": 73,
     "metadata": {},
     "output_type": "execute_result"
    }
   ],
   "source": [
    "# how many NaNs are there\n",
    "rent_data[list_num_vars].isnull().sum()"
   ]
  },
  {
   "cell_type": "markdown",
   "id": "e6d6d866",
   "metadata": {},
   "source": [
    "### How to fix the nan values in the floor feature?\n",
    "I will leave it none and see ho XGBoost will deal with it."
   ]
  },
  {
   "cell_type": "markdown",
   "id": "cb11adcd",
   "metadata": {},
   "source": [
    "### 4.9 Checking the correlation between the numerical features and the target"
   ]
  },
  {
   "cell_type": "code",
   "execution_count": 74,
   "id": "d581b6ce",
   "metadata": {},
   "outputs": [
    {
     "name": "stderr",
     "output_type": "stream",
     "text": [
      "C:\\Users\\DELL\\AppData\\Local\\Temp\\ipykernel_31584\\1021985472.py:2: FutureWarning: The default value of numeric_only in DataFrame.corr is deprecated. In a future version, it will default to False. Select only valid columns or specify the value of numeric_only to silence this warning.\n",
      "  correlation_matrix = rent_data.corr()\n"
     ]
    },
    {
     "data": {
      "image/png": "[encoded data removed]",
      "text/plain": [
       "<Figure size 1200x1000 with 2 Axes>"
      ]
     },
     "metadata": {},
     "output_type": "display_data"
    }
   ],
   "source": [
    "plt.figure(figsize=(12, 10))  # Adjust the figsize as needed\n",
    "correlation_matrix = rent_data.corr()\n",
    "sns.heatmap(correlation_matrix, annot=True, cmap='coolwarm', fmt=\".2f\")\n",
    "plt.title('Correlation Matrix')\n",
    "plt.show()"
   ]
  },
  {
   "cell_type": "markdown",
   "id": "dd09a347",
   "metadata": {},
   "source": [
    "## 5. BOOLEAN Columns\n",
    "\n",
    "Here there is not a lot of work to be done for univariate analysis. These columns dont have anomalies, no missing values."
   ]
  },
  {
   "cell_type": "code",
   "execution_count": 75,
   "id": "3630e7ec",
   "metadata": {},
   "outputs": [
    {
     "data": {
      "text/plain": [
       "['garden', 'lift', 'cellar', 'hasKitchen', 'newlyConst', 'balcony']"
      ]
     },
     "execution_count": 75,
     "metadata": {},
     "output_type": "execute_result"
    }
   ],
   "source": [
    "boolean_columns = rent_data.select_dtypes(include=['bool']).columns.tolist()\n",
    "boolean_columns"
   ]
  },
  {
   "cell_type": "markdown",
   "id": "4fe279b2",
   "metadata": {},
   "source": [
    "#### Check for missing values for each boolean feature we are cool here"
   ]
  },
  {
   "cell_type": "code",
   "execution_count": 76,
   "id": "77a822c1",
   "metadata": {},
   "outputs": [
    {
     "data": {
      "text/plain": [
       "garden        0.0\n",
       "lift          0.0\n",
       "cellar        0.0\n",
       "hasKitchen    0.0\n",
       "newlyConst    0.0\n",
       "balcony       0.0\n",
       "dtype: float64"
      ]
     },
     "execution_count": 76,
     "metadata": {},
     "output_type": "execute_result"
    }
   ],
   "source": [
    "rent_data.select_dtypes(include=['bool']).isna().mean().round(4) * 100"
   ]
  },
  {
   "cell_type": "markdown",
   "id": "e459afce",
   "metadata": {},
   "source": [
    "### The correlation matrix between boolean features. \n",
    "- The only correlation that makes sense is the correlation between lift and newlyConst, which makes sense because only the new buildings have a lift. "
   ]
  },
  {
   "cell_type": "code",
   "execution_count": 77,
   "id": "8d1c3ed7",
   "metadata": {},
   "outputs": [
    {
     "data": {
      "image/png": "[encoded data removed]",
      "text/plain": [
       "<Figure size 640x480 with 2 Axes>"
      ]
     },
     "metadata": {},
     "output_type": "display_data"
    }
   ],
   "source": [
    "sns.heatmap(rent_data[boolean_columns].corr(), annot=True, cmap='coolwarm')\n",
    "plt.title('Correlation Matrix of Boolean Features')\n",
    "plt.show()"
   ]
  },
  {
   "cell_type": "markdown",
   "id": "e5cfa183",
   "metadata": {},
   "source": [
    "### Garden"
   ]
  },
  {
   "cell_type": "code",
   "execution_count": 78,
   "id": "9e395b34",
   "metadata": {},
   "outputs": [
    {
     "data": {
      "text/plain": [
       "False    209076\n",
       "True      50570\n",
       "Name: garden, dtype: int64"
      ]
     },
     "execution_count": 78,
     "metadata": {},
     "output_type": "execute_result"
    }
   ],
   "source": [
    "# Assuming 'df' is your DataFrame and 'boolean_feature' is the boolean column\n",
    "rent_data['garden'].value_counts()"
   ]
  },
  {
   "cell_type": "code",
   "execution_count": 79,
   "id": "7f3c1c17",
   "metadata": {},
   "outputs": [
    {
     "data": {
      "text/plain": [
       "False    80.523482\n",
       "True     19.476518\n",
       "Name: garden, dtype: float64"
      ]
     },
     "execution_count": 79,
     "metadata": {},
     "output_type": "execute_result"
    }
   ],
   "source": [
    "# Calculate percentage of True and False\n",
    "rent_data['garden'].value_counts(normalize=True) * 100"
   ]
  },
  {
   "cell_type": "markdown",
   "id": "c9da9145",
   "metadata": {},
   "source": [
    "### 5.1 Converting the boolean columns to integer        "
   ]
  },
  {
   "cell_type": "code",
   "execution_count": 80,
   "id": "00fd4935",
   "metadata": {},
   "outputs": [],
   "source": [
    "rent_data[rent_data.select_dtypes('boolean').columns] = rent_data.select_dtypes('boolean').astype(int)"
   ]
  },
  {
   "cell_type": "markdown",
   "id": "a7fef209",
   "metadata": {},
   "source": [
    "### Removing the total_rent column"
   ]
  },
  {
   "cell_type": "code",
   "execution_count": 81,
   "id": "2aded1f1",
   "metadata": {},
   "outputs": [
    {
     "name": "stdout",
     "output_type": "stream",
     "text": [
      "<class 'pandas.core.frame.DataFrame'>\n",
      "Int64Index: 259646 entries, 0 to 268849\n",
      "Data columns (total 22 columns):\n",
      " #   Column                      Non-Null Count   Dtype   \n",
      "---  ------                      --------------   -----   \n",
      " 0   garden                      259646 non-null  int32   \n",
      " 1   noRooms                     259646 non-null  float64 \n",
      " 2   lift                        259646 non-null  int32   \n",
      " 3   livingSpace                 259646 non-null  float64 \n",
      " 4   baseRent                    259646 non-null  float64 \n",
      " 5   cellar                      259646 non-null  int32   \n",
      " 6   hasKitchen                  259646 non-null  int32   \n",
      " 7   newlyConst                  259646 non-null  int32   \n",
      " 8   balcony                     259646 non-null  int32   \n",
      " 9   serviceCharge               259646 non-null  float64 \n",
      " 10  description                 240314 non-null  object  \n",
      " 11  totalRent                   259646 non-null  float64 \n",
      " 12  floor                       210218 non-null  float64 \n",
      " 13  facilities                  208303 non-null  object  \n",
      " 14  yearConstructedRange        204347 non-null  float64 \n",
      " 15  condition                   193228 non-null  category\n",
      " 16  typeOfFlat_loft             259646 non-null  uint8   \n",
      " 17  typeOfFlat_maisonette       259646 non-null  uint8   \n",
      " 18  typeOfFlat_non_luxury_type  259646 non-null  uint8   \n",
      " 19  typeOfFlat_penthouse        259646 non-null  uint8   \n",
      " 20  typeOfFlat_terraced_flat    259646 non-null  uint8   \n",
      " 21  total_rent_new              259646 non-null  float64 \n",
      "dtypes: category(1), float64(8), int32(6), object(2), uint8(5)\n",
      "memory usage: 29.2+ MB\n"
     ]
    }
   ],
   "source": [
    "rent_data.info()"
   ]
  },
  {
   "cell_type": "code",
   "execution_count": 82,
   "id": "c660dbb7",
   "metadata": {},
   "outputs": [
    {
     "data": {
      "text/html": [
       "<div>\n",
       "<style scoped>\n",
       "    .dataframe tbody tr th:only-of-type {\n",
       "        vertical-align: middle;\n",
       "    }\n",
       "\n",
       "    .dataframe tbody tr th {\n",
       "        vertical-align: top;\n",
       "    }\n",
       "\n",
       "    .dataframe thead th {\n",
       "        text-align: right;\n",
       "    }\n",
       "</style>\n",
       "<table border=\"1\" class=\"dataframe\">\n",
       "  <thead>\n",
       "    <tr style=\"text-align: right;\">\n",
       "      <th></th>\n",
       "      <th>garden</th>\n",
       "      <th>noRooms</th>\n",
       "      <th>lift</th>\n",
       "      <th>livingSpace</th>\n",
       "      <th>baseRent</th>\n",
       "      <th>cellar</th>\n",
       "      <th>hasKitchen</th>\n",
       "      <th>newlyConst</th>\n",
       "      <th>balcony</th>\n",
       "      <th>serviceCharge</th>\n",
       "      <th>description</th>\n",
       "      <th>floor</th>\n",
       "      <th>facilities</th>\n",
       "      <th>yearConstructedRange</th>\n",
       "      <th>condition</th>\n",
       "      <th>typeOfFlat_loft</th>\n",
       "      <th>typeOfFlat_maisonette</th>\n",
       "      <th>typeOfFlat_non_luxury_type</th>\n",
       "      <th>typeOfFlat_penthouse</th>\n",
       "      <th>typeOfFlat_terraced_flat</th>\n",
       "      <th>total_rent_new</th>\n",
       "    </tr>\n",
       "  </thead>\n",
       "  <tbody>\n",
       "    <tr>\n",
       "      <th>0</th>\n",
       "      <td>1</td>\n",
       "      <td>4.0</td>\n",
       "      <td>0</td>\n",
       "      <td>86.00</td>\n",
       "      <td>595.0</td>\n",
       "      <td>1</td>\n",
       "      <td>0</td>\n",
       "      <td>0</td>\n",
       "      <td>0</td>\n",
       "      <td>245.00</td>\n",
       "      <td>Die ebenerdig zu erreichende Erdgeschosswohnun...</td>\n",
       "      <td>1.0</td>\n",
       "      <td>Die Wohnung ist mit Laminat ausgelegt. Das Bad...</td>\n",
       "      <td>2.0</td>\n",
       "      <td>well_kept</td>\n",
       "      <td>0</td>\n",
       "      <td>0</td>\n",
       "      <td>1</td>\n",
       "      <td>0</td>\n",
       "      <td>0</td>\n",
       "      <td>840.00</td>\n",
       "    </tr>\n",
       "    <tr>\n",
       "      <th>1</th>\n",
       "      <td>0</td>\n",
       "      <td>3.0</td>\n",
       "      <td>0</td>\n",
       "      <td>89.00</td>\n",
       "      <td>800.0</td>\n",
       "      <td>0</td>\n",
       "      <td>0</td>\n",
       "      <td>0</td>\n",
       "      <td>1</td>\n",
       "      <td>134.00</td>\n",
       "      <td>Alles neu macht der Mai – so kann es auch für ...</td>\n",
       "      <td>NaN</td>\n",
       "      <td>NaN</td>\n",
       "      <td>1.0</td>\n",
       "      <td>refurbished</td>\n",
       "      <td>0</td>\n",
       "      <td>0</td>\n",
       "      <td>1</td>\n",
       "      <td>0</td>\n",
       "      <td>0</td>\n",
       "      <td>934.00</td>\n",
       "    </tr>\n",
       "    <tr>\n",
       "      <th>2</th>\n",
       "      <td>0</td>\n",
       "      <td>3.0</td>\n",
       "      <td>1</td>\n",
       "      <td>83.80</td>\n",
       "      <td>965.0</td>\n",
       "      <td>1</td>\n",
       "      <td>0</td>\n",
       "      <td>1</td>\n",
       "      <td>1</td>\n",
       "      <td>255.00</td>\n",
       "      <td>Der Neubau entsteht im Herzen der Dresdner Neu...</td>\n",
       "      <td>3.0</td>\n",
       "      <td>* 9 m² Balkon\\n* Bad mit bodengleicher Dusche,...</td>\n",
       "      <td>9.0</td>\n",
       "      <td>first_time_use</td>\n",
       "      <td>0</td>\n",
       "      <td>0</td>\n",
       "      <td>1</td>\n",
       "      <td>0</td>\n",
       "      <td>0</td>\n",
       "      <td>1300.00</td>\n",
       "    </tr>\n",
       "    <tr>\n",
       "      <th>3</th>\n",
       "      <td>0</td>\n",
       "      <td>3.0</td>\n",
       "      <td>0</td>\n",
       "      <td>58.15</td>\n",
       "      <td>343.0</td>\n",
       "      <td>0</td>\n",
       "      <td>0</td>\n",
       "      <td>0</td>\n",
       "      <td>1</td>\n",
       "      <td>58.15</td>\n",
       "      <td>Abseits von Lärm und Abgasen in Ihre neue Wohn...</td>\n",
       "      <td>3.0</td>\n",
       "      <td>NaN</td>\n",
       "      <td>2.0</td>\n",
       "      <td>NaN</td>\n",
       "      <td>0</td>\n",
       "      <td>0</td>\n",
       "      <td>1</td>\n",
       "      <td>0</td>\n",
       "      <td>0</td>\n",
       "      <td>401.15</td>\n",
       "    </tr>\n",
       "    <tr>\n",
       "      <th>4</th>\n",
       "      <td>0</td>\n",
       "      <td>3.0</td>\n",
       "      <td>0</td>\n",
       "      <td>84.97</td>\n",
       "      <td>765.0</td>\n",
       "      <td>0</td>\n",
       "      <td>0</td>\n",
       "      <td>0</td>\n",
       "      <td>1</td>\n",
       "      <td>138.00</td>\n",
       "      <td>Es handelt sich hier um ein saniertes Mehrfami...</td>\n",
       "      <td>1.0</td>\n",
       "      <td>Diese Wohnung wurde neu saniert und ist wie fo...</td>\n",
       "      <td>1.0</td>\n",
       "      <td>refurbished</td>\n",
       "      <td>0</td>\n",
       "      <td>0</td>\n",
       "      <td>1</td>\n",
       "      <td>0</td>\n",
       "      <td>0</td>\n",
       "      <td>903.00</td>\n",
       "    </tr>\n",
       "    <tr>\n",
       "      <th>...</th>\n",
       "      <td>...</td>\n",
       "      <td>...</td>\n",
       "      <td>...</td>\n",
       "      <td>...</td>\n",
       "      <td>...</td>\n",
       "      <td>...</td>\n",
       "      <td>...</td>\n",
       "      <td>...</td>\n",
       "      <td>...</td>\n",
       "      <td>...</td>\n",
       "      <td>...</td>\n",
       "      <td>...</td>\n",
       "      <td>...</td>\n",
       "      <td>...</td>\n",
       "      <td>...</td>\n",
       "      <td>...</td>\n",
       "      <td>...</td>\n",
       "      <td>...</td>\n",
       "      <td>...</td>\n",
       "      <td>...</td>\n",
       "      <td>...</td>\n",
       "    </tr>\n",
       "    <tr>\n",
       "      <th>268845</th>\n",
       "      <td>0</td>\n",
       "      <td>3.0</td>\n",
       "      <td>0</td>\n",
       "      <td>90.00</td>\n",
       "      <td>820.0</td>\n",
       "      <td>1</td>\n",
       "      <td>0</td>\n",
       "      <td>0</td>\n",
       "      <td>1</td>\n",
       "      <td>90.00</td>\n",
       "      <td>Diese schöne, neuwertige Wohnung im Dachgescho...</td>\n",
       "      <td>NaN</td>\n",
       "      <td>Fliesen und Parkett. Sichtbarer Dachstuhl.</td>\n",
       "      <td>9.0</td>\n",
       "      <td>mint_condition</td>\n",
       "      <td>0</td>\n",
       "      <td>0</td>\n",
       "      <td>1</td>\n",
       "      <td>0</td>\n",
       "      <td>0</td>\n",
       "      <td>910.00</td>\n",
       "    </tr>\n",
       "    <tr>\n",
       "      <th>268846</th>\n",
       "      <td>0</td>\n",
       "      <td>3.5</td>\n",
       "      <td>0</td>\n",
       "      <td>115.00</td>\n",
       "      <td>930.0</td>\n",
       "      <td>0</td>\n",
       "      <td>1</td>\n",
       "      <td>0</td>\n",
       "      <td>1</td>\n",
       "      <td>220.00</td>\n",
       "      <td>Hier wird eine Wohnung im 2 Familienhaus angeb...</td>\n",
       "      <td>1.0</td>\n",
       "      <td>Parkett, Kamin, Badewanne&amp;Dusche\\nGroßer Balko...</td>\n",
       "      <td>4.0</td>\n",
       "      <td>well_kept</td>\n",
       "      <td>0</td>\n",
       "      <td>0</td>\n",
       "      <td>1</td>\n",
       "      <td>0</td>\n",
       "      <td>0</td>\n",
       "      <td>1150.00</td>\n",
       "    </tr>\n",
       "    <tr>\n",
       "      <th>268847</th>\n",
       "      <td>1</td>\n",
       "      <td>4.0</td>\n",
       "      <td>0</td>\n",
       "      <td>95.00</td>\n",
       "      <td>650.0</td>\n",
       "      <td>1</td>\n",
       "      <td>0</td>\n",
       "      <td>0</td>\n",
       "      <td>1</td>\n",
       "      <td>220.00</td>\n",
       "      <td>gemütliche 4-Zimmer-Wohnung im Obergeschoss ei...</td>\n",
       "      <td>1.0</td>\n",
       "      <td>Böden: Wohn-/Schlafbereich = Laminat, Küche + ...</td>\n",
       "      <td>2.0</td>\n",
       "      <td>well_kept</td>\n",
       "      <td>0</td>\n",
       "      <td>0</td>\n",
       "      <td>1</td>\n",
       "      <td>0</td>\n",
       "      <td>0</td>\n",
       "      <td>930.00</td>\n",
       "    </tr>\n",
       "    <tr>\n",
       "      <th>268848</th>\n",
       "      <td>0</td>\n",
       "      <td>2.0</td>\n",
       "      <td>1</td>\n",
       "      <td>70.00</td>\n",
       "      <td>840.0</td>\n",
       "      <td>1</td>\n",
       "      <td>0</td>\n",
       "      <td>1</td>\n",
       "      <td>1</td>\n",
       "      <td>175.00</td>\n",
       "      <td>Neubau Erstbezug, gehobener Standard, alle Ein...</td>\n",
       "      <td>NaN</td>\n",
       "      <td>Wände:\\nMaler­vlies, weiß gestrichen alter­nat...</td>\n",
       "      <td>9.0</td>\n",
       "      <td>first_time_use</td>\n",
       "      <td>0</td>\n",
       "      <td>0</td>\n",
       "      <td>1</td>\n",
       "      <td>0</td>\n",
       "      <td>0</td>\n",
       "      <td>1015.00</td>\n",
       "    </tr>\n",
       "    <tr>\n",
       "      <th>268849</th>\n",
       "      <td>0</td>\n",
       "      <td>3.0</td>\n",
       "      <td>1</td>\n",
       "      <td>77.00</td>\n",
       "      <td>935.0</td>\n",
       "      <td>1</td>\n",
       "      <td>1</td>\n",
       "      <td>0</td>\n",
       "      <td>1</td>\n",
       "      <td>315.00</td>\n",
       "      <td>Schöne, helle, gut geschnittene und teilmöblie...</td>\n",
       "      <td>NaN</td>\n",
       "      <td>Balkon, Keller, Fahrstuhl, Vollbad, Einbauküch...</td>\n",
       "      <td>3.0</td>\n",
       "      <td>modernized</td>\n",
       "      <td>0</td>\n",
       "      <td>0</td>\n",
       "      <td>1</td>\n",
       "      <td>0</td>\n",
       "      <td>0</td>\n",
       "      <td>1250.00</td>\n",
       "    </tr>\n",
       "  </tbody>\n",
       "</table>\n",
       "<p>259646 rows × 21 columns</p>\n",
       "</div>"
      ],
      "text/plain": [
       "        garden  noRooms  lift  livingSpace  baseRent  cellar  hasKitchen  \\\n",
       "0            1      4.0     0        86.00     595.0       1           0   \n",
       "1            0      3.0     0        89.00     800.0       0           0   \n",
       "2            0      3.0     1        83.80     965.0       1           0   \n",
       "3            0      3.0     0        58.15     343.0       0           0   \n",
       "4            0      3.0     0        84.97     765.0       0           0   \n",
       "...        ...      ...   ...          ...       ...     ...         ...   \n",
       "268845       0      3.0     0        90.00     820.0       1           0   \n",
       "268846       0      3.5     0       115.00     930.0       0           1   \n",
       "268847       1      4.0     0        95.00     650.0       1           0   \n",
       "268848       0      2.0     1        70.00     840.0       1           0   \n",
       "268849       0      3.0     1        77.00     935.0       1           1   \n",
       "\n",
       "        newlyConst  balcony  serviceCharge  \\\n",
       "0                0        0         245.00   \n",
       "1                0        1         134.00   \n",
       "2                1        1         255.00   \n",
       "3                0        1          58.15   \n",
       "4                0        1         138.00   \n",
       "...            ...      ...            ...   \n",
       "268845           0        1          90.00   \n",
       "268846           0        1         220.00   \n",
       "268847           0        1         220.00   \n",
       "268848           1        1         175.00   \n",
       "268849           0        1         315.00   \n",
       "\n",
       "                                              description  floor  \\\n",
       "0       Die ebenerdig zu erreichende Erdgeschosswohnun...    1.0   \n",
       "1       Alles neu macht der Mai – so kann es auch für ...    NaN   \n",
       "2       Der Neubau entsteht im Herzen der Dresdner Neu...    3.0   \n",
       "3       Abseits von Lärm und Abgasen in Ihre neue Wohn...    3.0   \n",
       "4       Es handelt sich hier um ein saniertes Mehrfami...    1.0   \n",
       "...                                                   ...    ...   \n",
       "268845  Diese schöne, neuwertige Wohnung im Dachgescho...    NaN   \n",
       "268846  Hier wird eine Wohnung im 2 Familienhaus angeb...    1.0   \n",
       "268847  gemütliche 4-Zimmer-Wohnung im Obergeschoss ei...    1.0   \n",
       "268848  Neubau Erstbezug, gehobener Standard, alle Ein...    NaN   \n",
       "268849  Schöne, helle, gut geschnittene und teilmöblie...    NaN   \n",
       "\n",
       "                                               facilities  \\\n",
       "0       Die Wohnung ist mit Laminat ausgelegt. Das Bad...   \n",
       "1                                                     NaN   \n",
       "2       * 9 m² Balkon\\n* Bad mit bodengleicher Dusche,...   \n",
       "3                                                     NaN   \n",
       "4       Diese Wohnung wurde neu saniert und ist wie fo...   \n",
       "...                                                   ...   \n",
       "268845         Fliesen und Parkett. Sichtbarer Dachstuhl.   \n",
       "268846  Parkett, Kamin, Badewanne&Dusche\\nGroßer Balko...   \n",
       "268847  Böden: Wohn-/Schlafbereich = Laminat, Küche + ...   \n",
       "268848  Wände:\\nMaler­vlies, weiß gestrichen alter­nat...   \n",
       "268849  Balkon, Keller, Fahrstuhl, Vollbad, Einbauküch...   \n",
       "\n",
       "        yearConstructedRange       condition  typeOfFlat_loft  \\\n",
       "0                        2.0       well_kept                0   \n",
       "1                        1.0     refurbished                0   \n",
       "2                        9.0  first_time_use                0   \n",
       "3                        2.0             NaN                0   \n",
       "4                        1.0     refurbished                0   \n",
       "...                      ...             ...              ...   \n",
       "268845                   9.0  mint_condition                0   \n",
       "268846                   4.0       well_kept                0   \n",
       "268847                   2.0       well_kept                0   \n",
       "268848                   9.0  first_time_use                0   \n",
       "268849                   3.0      modernized                0   \n",
       "\n",
       "        typeOfFlat_maisonette  typeOfFlat_non_luxury_type  \\\n",
       "0                           0                           1   \n",
       "1                           0                           1   \n",
       "2                           0                           1   \n",
       "3                           0                           1   \n",
       "4                           0                           1   \n",
       "...                       ...                         ...   \n",
       "268845                      0                           1   \n",
       "268846                      0                           1   \n",
       "268847                      0                           1   \n",
       "268848                      0                           1   \n",
       "268849                      0                           1   \n",
       "\n",
       "        typeOfFlat_penthouse  typeOfFlat_terraced_flat  total_rent_new  \n",
       "0                          0                         0          840.00  \n",
       "1                          0                         0          934.00  \n",
       "2                          0                         0         1300.00  \n",
       "3                          0                         0          401.15  \n",
       "4                          0                         0          903.00  \n",
       "...                      ...                       ...             ...  \n",
       "268845                     0                         0          910.00  \n",
       "268846                     0                         0         1150.00  \n",
       "268847                     0                         0          930.00  \n",
       "268848                     0                         0         1015.00  \n",
       "268849                     0                         0         1250.00  \n",
       "\n",
       "[259646 rows x 21 columns]"
      ]
     },
     "execution_count": 82,
     "metadata": {},
     "output_type": "execute_result"
    }
   ],
   "source": [
    "rent_data = rent_data.drop('totalRent', axis=1)\n",
    "rent_data"
   ]
  },
  {
   "cell_type": "markdown",
   "id": "b4e72c8c",
   "metadata": {},
   "source": [
    "## 6. Saving the clean dataset "
   ]
  },
  {
   "cell_type": "code",
   "execution_count": 83,
   "id": "b014459d",
   "metadata": {},
   "outputs": [],
   "source": [
    "rent_data.to_csv('rent_data_clean_2.csv',index=False)"
   ]
  },
  {
   "cell_type": "code",
   "execution_count": 84,
   "id": "1bdce90c",
   "metadata": {},
   "outputs": [
    {
     "data": {
      "text/plain": [
       "['garden',\n",
       " 'noRooms',\n",
       " 'lift',\n",
       " 'livingSpace',\n",
       " 'baseRent',\n",
       " 'cellar',\n",
       " 'hasKitchen',\n",
       " 'newlyConst',\n",
       " 'balcony',\n",
       " 'serviceCharge',\n",
       " 'description',\n",
       " 'floor',\n",
       " 'facilities',\n",
       " 'yearConstructedRange',\n",
       " 'condition',\n",
       " 'typeOfFlat_loft',\n",
       " 'typeOfFlat_maisonette',\n",
       " 'typeOfFlat_non_luxury_type',\n",
       " 'typeOfFlat_penthouse',\n",
       " 'typeOfFlat_terraced_flat',\n",
       " 'total_rent_new']"
      ]
     },
     "execution_count": 84,
     "metadata": {},
     "output_type": "execute_result"
    }
   ],
   "source": [
    "list(rent_data.columns)"
   ]
  },
  {
   "cell_type": "code",
   "execution_count": 85,
   "id": "17ad9961",
   "metadata": {},
   "outputs": [
    {
     "data": {
      "text/plain": [
       "(259646, 21)"
      ]
     },
     "execution_count": 85,
     "metadata": {},
     "output_type": "execute_result"
    }
   ],
   "source": [
    "rent_data.shape"
   ]
  },
  {
   "cell_type": "code",
   "execution_count": null,
   "id": "18ed66c8",
   "metadata": {},
   "outputs": [],
   "source": []
  }
 ],
 "metadata": {
  "kernelspec": {
   "display_name": "zoi_tech_task",
   "language": "python",
   "name": "zoi_tech_task"
  },
  "language_info": {
   "codemirror_mode": {
    "name": "ipython",
    "version": 3
   },
   "file_extension": ".py",
   "mimetype": "text/x-python",
   "name": "python",
   "nbconvert_exporter": "python",
   "pygments_lexer": "ipython3",
   "version": "3.11.4"
  }
 },
 "nbformat": 4,
 "nbformat_minor": 5
}
